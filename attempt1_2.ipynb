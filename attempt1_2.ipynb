{
  "nbformat": 4,
  "nbformat_minor": 0,
  "metadata": {
    "colab": {
      "name": "attempt1_2.ipynb",
      "provenance": [],
      "collapsed_sections": []
    },
    "kernelspec": {
      "name": "python3",
      "display_name": "Python 3"
    },
    "accelerator": "GPU"
  },
  "cells": [
    {
      "cell_type": "code",
      "metadata": {
        "id": "lqI19DkMCK4D",
        "colab_type": "code",
        "colab": {}
      },
      "source": [
        "%tensorflow_version 2.x"
      ],
      "execution_count": 0,
      "outputs": []
    },
    {
      "cell_type": "code",
      "metadata": {
        "id": "80cTOKBpClbl",
        "colab_type": "code",
        "colab": {}
      },
      "source": [
        "import pandas as pd\n",
        "import numpy as np"
      ],
      "execution_count": 0,
      "outputs": []
    },
    {
      "cell_type": "code",
      "metadata": {
        "id": "SxLUNPXGCp9V",
        "colab_type": "code",
        "colab": {}
      },
      "source": [
        "df_train = pd.read_csv(\"/content/drive/My Drive/Colab Notebooks/NLP mini project/BBC News Train.csv\")"
      ],
      "execution_count": 0,
      "outputs": []
    },
    {
      "cell_type": "code",
      "metadata": {
        "id": "nZ_8AkAUCxIJ",
        "colab_type": "code",
        "colab": {}
      },
      "source": [
        "df_train[\"labels\"] = df_train[\"Category\"].map({\"business\":0,\"entertainment\":1,\"politics\":2,\"sport\":3,\"tech\":4})"
      ],
      "execution_count": 0,
      "outputs": []
    },
    {
      "cell_type": "code",
      "metadata": {
        "id": "JXJNG2gACyJ0",
        "colab_type": "code",
        "colab": {
          "base_uri": "https://localhost:8080/",
          "height": 52
        },
        "outputId": "b714299f-2a1b-45e7-b102-492822041f9c"
      },
      "source": [
        "import re\n",
        "import nltk\n",
        "nltk.download('stopwords')\n",
        "from nltk.corpus import stopwords\n",
        "from nltk.stem.porter import PorterStemmer"
      ],
      "execution_count": 5,
      "outputs": [
        {
          "output_type": "stream",
          "text": [
            "[nltk_data] Downloading package stopwords to /root/nltk_data...\n",
            "[nltk_data]   Unzipping corpora/stopwords.zip.\n"
          ],
          "name": "stdout"
        }
      ]
    },
    {
      "cell_type": "code",
      "metadata": {
        "id": "US-gEg7zEjwW",
        "colab_type": "code",
        "colab": {
          "base_uri": "https://localhost:8080/",
          "height": 54
        },
        "outputId": "3fd1b589-f735-47f7-8e33-18ba64c7bc90"
      },
      "source": [
        "print(df_train[\"Text\"][0])"
      ],
      "execution_count": 7,
      "outputs": [
        {
          "output_type": "stream",
          "text": [
            "worldcom ex-boss launches defence lawyers defending former worldcom chief bernie ebbers against a battery of fraud charges have called a company whistleblower as their first witness.  cynthia cooper  worldcom s ex-head of internal accounting  alerted directors to irregular accounting practices at the us telecoms giant in 2002. her warnings led to the collapse of the firm following the discovery of an $11bn (£5.7bn) accounting fraud. mr ebbers has pleaded not guilty to charges of fraud and conspiracy.  prosecution lawyers have argued that mr ebbers orchestrated a series of accounting tricks at worldcom  ordering employees to hide expenses and inflate revenues to meet wall street earnings estimates. but ms cooper  who now runs her own consulting business  told a jury in new york on wednesday that external auditors arthur andersen had approved worldcom s accounting in early 2001 and 2002. she said andersen had given a  green light  to the procedures and practices used by worldcom. mr ebber s lawyers have said he was unaware of the fraud  arguing that auditors did not alert him to any problems.  ms cooper also said that during shareholder meetings mr ebbers often passed over technical questions to the company s finance chief  giving only  brief  answers himself. the prosecution s star witness  former worldcom financial chief scott sullivan  has said that mr ebbers ordered accounting adjustments at the firm  telling him to  hit our books . however  ms cooper said mr sullivan had not mentioned  anything uncomfortable  about worldcom s accounting during a 2001 audit committee meeting. mr ebbers could face a jail sentence of 85 years if convicted of all the charges he is facing. worldcom emerged from bankruptcy protection in 2004  and is now known as mci. last week  mci agreed to a buyout by verizon communications in a deal valued at $6.75bn.\n"
          ],
          "name": "stdout"
        }
      ]
    },
    {
      "cell_type": "code",
      "metadata": {
        "id": "RfB90U_9D__9",
        "colab_type": "code",
        "colab": {
          "base_uri": "https://localhost:8080/",
          "height": 106
        },
        "outputId": "e200d7c8-64ab-41b4-8350-a772751e2b3b"
      },
      "source": [
        "#-----example-----------------------\n",
        "article = re.sub('[^a-zA-Z]',' ',df_train[\"Text\"][0])\n",
        "article = article.lower()\n",
        "print(\"clean 1 : \",article)\n",
        "article = article.split()\n",
        "print(\"split : \",article)\n",
        "ps = PorterStemmer()\n",
        "article = [ ps.stem(word) for word in article if word not in set(stopwords.words('english'))]\n",
        "print(\"after stemming : \",article)\n",
        "article = \" \".join(article)\n",
        "print(\"after stemming string: \",article)"
      ],
      "execution_count": 11,
      "outputs": [
        {
          "output_type": "stream",
          "text": [
            "clean 1 :  worldcom ex boss launches defence lawyers defending former worldcom chief bernie ebbers against a battery of fraud charges have called a company whistleblower as their first witness   cynthia cooper  worldcom s ex head of internal accounting  alerted directors to irregular accounting practices at the us telecoms giant in       her warnings led to the collapse of the firm following the discovery of an    bn      bn  accounting fraud  mr ebbers has pleaded not guilty to charges of fraud and conspiracy   prosecution lawyers have argued that mr ebbers orchestrated a series of accounting tricks at worldcom  ordering employees to hide expenses and inflate revenues to meet wall street earnings estimates  but ms cooper  who now runs her own consulting business  told a jury in new york on wednesday that external auditors arthur andersen had approved worldcom s accounting in early      and       she said andersen had given a  green light  to the procedures and practices used by worldcom  mr ebber s lawyers have said he was unaware of the fraud  arguing that auditors did not alert him to any problems   ms cooper also said that during shareholder meetings mr ebbers often passed over technical questions to the company s finance chief  giving only  brief  answers himself  the prosecution s star witness  former worldcom financial chief scott sullivan  has said that mr ebbers ordered accounting adjustments at the firm  telling him to  hit our books   however  ms cooper said mr sullivan had not mentioned  anything uncomfortable  about worldcom s accounting during a      audit committee meeting  mr ebbers could face a jail sentence of    years if convicted of all the charges he is facing  worldcom emerged from bankruptcy protection in       and is now known as mci  last week  mci agreed to a buyout by verizon communications in a deal valued at      bn \n",
            "split :  ['worldcom', 'ex', 'boss', 'launches', 'defence', 'lawyers', 'defending', 'former', 'worldcom', 'chief', 'bernie', 'ebbers', 'against', 'a', 'battery', 'of', 'fraud', 'charges', 'have', 'called', 'a', 'company', 'whistleblower', 'as', 'their', 'first', 'witness', 'cynthia', 'cooper', 'worldcom', 's', 'ex', 'head', 'of', 'internal', 'accounting', 'alerted', 'directors', 'to', 'irregular', 'accounting', 'practices', 'at', 'the', 'us', 'telecoms', 'giant', 'in', 'her', 'warnings', 'led', 'to', 'the', 'collapse', 'of', 'the', 'firm', 'following', 'the', 'discovery', 'of', 'an', 'bn', 'bn', 'accounting', 'fraud', 'mr', 'ebbers', 'has', 'pleaded', 'not', 'guilty', 'to', 'charges', 'of', 'fraud', 'and', 'conspiracy', 'prosecution', 'lawyers', 'have', 'argued', 'that', 'mr', 'ebbers', 'orchestrated', 'a', 'series', 'of', 'accounting', 'tricks', 'at', 'worldcom', 'ordering', 'employees', 'to', 'hide', 'expenses', 'and', 'inflate', 'revenues', 'to', 'meet', 'wall', 'street', 'earnings', 'estimates', 'but', 'ms', 'cooper', 'who', 'now', 'runs', 'her', 'own', 'consulting', 'business', 'told', 'a', 'jury', 'in', 'new', 'york', 'on', 'wednesday', 'that', 'external', 'auditors', 'arthur', 'andersen', 'had', 'approved', 'worldcom', 's', 'accounting', 'in', 'early', 'and', 'she', 'said', 'andersen', 'had', 'given', 'a', 'green', 'light', 'to', 'the', 'procedures', 'and', 'practices', 'used', 'by', 'worldcom', 'mr', 'ebber', 's', 'lawyers', 'have', 'said', 'he', 'was', 'unaware', 'of', 'the', 'fraud', 'arguing', 'that', 'auditors', 'did', 'not', 'alert', 'him', 'to', 'any', 'problems', 'ms', 'cooper', 'also', 'said', 'that', 'during', 'shareholder', 'meetings', 'mr', 'ebbers', 'often', 'passed', 'over', 'technical', 'questions', 'to', 'the', 'company', 's', 'finance', 'chief', 'giving', 'only', 'brief', 'answers', 'himself', 'the', 'prosecution', 's', 'star', 'witness', 'former', 'worldcom', 'financial', 'chief', 'scott', 'sullivan', 'has', 'said', 'that', 'mr', 'ebbers', 'ordered', 'accounting', 'adjustments', 'at', 'the', 'firm', 'telling', 'him', 'to', 'hit', 'our', 'books', 'however', 'ms', 'cooper', 'said', 'mr', 'sullivan', 'had', 'not', 'mentioned', 'anything', 'uncomfortable', 'about', 'worldcom', 's', 'accounting', 'during', 'a', 'audit', 'committee', 'meeting', 'mr', 'ebbers', 'could', 'face', 'a', 'jail', 'sentence', 'of', 'years', 'if', 'convicted', 'of', 'all', 'the', 'charges', 'he', 'is', 'facing', 'worldcom', 'emerged', 'from', 'bankruptcy', 'protection', 'in', 'and', 'is', 'now', 'known', 'as', 'mci', 'last', 'week', 'mci', 'agreed', 'to', 'a', 'buyout', 'by', 'verizon', 'communications', 'in', 'a', 'deal', 'valued', 'at', 'bn']\n",
            "after stemming :  ['worldcom', 'ex', 'boss', 'launch', 'defenc', 'lawyer', 'defend', 'former', 'worldcom', 'chief', 'berni', 'ebber', 'batteri', 'fraud', 'charg', 'call', 'compani', 'whistleblow', 'first', 'wit', 'cynthia', 'cooper', 'worldcom', 'ex', 'head', 'intern', 'account', 'alert', 'director', 'irregular', 'account', 'practic', 'us', 'telecom', 'giant', 'warn', 'led', 'collaps', 'firm', 'follow', 'discoveri', 'bn', 'bn', 'account', 'fraud', 'mr', 'ebber', 'plead', 'guilti', 'charg', 'fraud', 'conspiraci', 'prosecut', 'lawyer', 'argu', 'mr', 'ebber', 'orchestr', 'seri', 'account', 'trick', 'worldcom', 'order', 'employe', 'hide', 'expens', 'inflat', 'revenu', 'meet', 'wall', 'street', 'earn', 'estim', 'ms', 'cooper', 'run', 'consult', 'busi', 'told', 'juri', 'new', 'york', 'wednesday', 'extern', 'auditor', 'arthur', 'andersen', 'approv', 'worldcom', 'account', 'earli', 'said', 'andersen', 'given', 'green', 'light', 'procedur', 'practic', 'use', 'worldcom', 'mr', 'ebber', 'lawyer', 'said', 'unawar', 'fraud', 'argu', 'auditor', 'alert', 'problem', 'ms', 'cooper', 'also', 'said', 'sharehold', 'meet', 'mr', 'ebber', 'often', 'pass', 'technic', 'question', 'compani', 'financ', 'chief', 'give', 'brief', 'answer', 'prosecut', 'star', 'wit', 'former', 'worldcom', 'financi', 'chief', 'scott', 'sullivan', 'said', 'mr', 'ebber', 'order', 'account', 'adjust', 'firm', 'tell', 'hit', 'book', 'howev', 'ms', 'cooper', 'said', 'mr', 'sullivan', 'mention', 'anyth', 'uncomfort', 'worldcom', 'account', 'audit', 'committe', 'meet', 'mr', 'ebber', 'could', 'face', 'jail', 'sentenc', 'year', 'convict', 'charg', 'face', 'worldcom', 'emerg', 'bankruptci', 'protect', 'known', 'mci', 'last', 'week', 'mci', 'agre', 'buyout', 'verizon', 'commun', 'deal', 'valu', 'bn']\n",
            "after stemming string:  worldcom ex boss launch defenc lawyer defend former worldcom chief berni ebber batteri fraud charg call compani whistleblow first wit cynthia cooper worldcom ex head intern account alert director irregular account practic us telecom giant warn led collaps firm follow discoveri bn bn account fraud mr ebber plead guilti charg fraud conspiraci prosecut lawyer argu mr ebber orchestr seri account trick worldcom order employe hide expens inflat revenu meet wall street earn estim ms cooper run consult busi told juri new york wednesday extern auditor arthur andersen approv worldcom account earli said andersen given green light procedur practic use worldcom mr ebber lawyer said unawar fraud argu auditor alert problem ms cooper also said sharehold meet mr ebber often pass technic question compani financ chief give brief answer prosecut star wit former worldcom financi chief scott sullivan said mr ebber order account adjust firm tell hit book howev ms cooper said mr sullivan mention anyth uncomfort worldcom account audit committe meet mr ebber could face jail sentenc year convict charg face worldcom emerg bankruptci protect known mci last week mci agre buyout verizon commun deal valu bn\n"
          ],
          "name": "stdout"
        }
      ]
    },
    {
      "cell_type": "code",
      "metadata": {
        "id": "Q3iYTe5nJD4U",
        "colab_type": "code",
        "colab": {}
      },
      "source": [
        "proc_text = []\n",
        "for i in range(len(df_train[\"Text\"])):\n",
        "  article = re.sub('[^a-zA-Z]',' ',df_train[\"Text\"][i])\n",
        "  article = article.lower()\n",
        "  article = article.split()\n",
        "  ps = PorterStemmer()\n",
        "  article = [ ps.stem(word) for word in article if word not in set(stopwords.words('english'))]\n",
        "  article = \" \".join(article)\n",
        "  proc_text.append(article)"
      ],
      "execution_count": 0,
      "outputs": []
    },
    {
      "cell_type": "code",
      "metadata": {
        "id": "JBXuqOD9JRCZ",
        "colab_type": "code",
        "colab": {}
      },
      "source": [
        "df_train[\"processed_text\"] = proc_text"
      ],
      "execution_count": 0,
      "outputs": []
    },
    {
      "cell_type": "code",
      "metadata": {
        "id": "q8_7hSqsJfj8",
        "colab_type": "code",
        "colab": {
          "base_uri": "https://localhost:8080/",
          "height": 225
        },
        "outputId": "99074521-fc8a-4659-8ba7-97a89bb8d9bb"
      },
      "source": [
        "df_train.info()"
      ],
      "execution_count": 20,
      "outputs": [
        {
          "output_type": "stream",
          "text": [
            "<class 'pandas.core.frame.DataFrame'>\n",
            "RangeIndex: 1490 entries, 0 to 1489\n",
            "Data columns (total 5 columns):\n",
            " #   Column          Non-Null Count  Dtype \n",
            "---  ------          --------------  ----- \n",
            " 0   ArticleId       1490 non-null   int64 \n",
            " 1   Text            1490 non-null   object\n",
            " 2   Category        1490 non-null   object\n",
            " 3   labels          1490 non-null   int64 \n",
            " 4   processed_text  1490 non-null   object\n",
            "dtypes: int64(2), object(3)\n",
            "memory usage: 58.3+ KB\n"
          ],
          "name": "stdout"
        }
      ]
    },
    {
      "cell_type": "code",
      "metadata": {
        "id": "EqRdopiVJhEb",
        "colab_type": "code",
        "colab": {}
      },
      "source": [
        "from sklearn.model_selection import train_test_split\n",
        "\n",
        "X_train, X_val, Y_train, Y_val = train_test_split(df_train[\"processed_text\"],df_train[\"labels\"],test_size=0.3, random_state=0)"
      ],
      "execution_count": 0,
      "outputs": []
    },
    {
      "cell_type": "code",
      "metadata": {
        "id": "RNWbmeFmLC8x",
        "colab_type": "code",
        "colab": {
          "base_uri": "https://localhost:8080/",
          "height": 34
        },
        "outputId": "28f5a72e-93a7-4e24-da00-a4f455496c49"
      },
      "source": [
        "X_train.shape, X_val.shape, Y_train.shape, Y_val.shape"
      ],
      "execution_count": 22,
      "outputs": [
        {
          "output_type": "execute_result",
          "data": {
            "text/plain": [
              "((1043,), (447,), (1043,), (447,))"
            ]
          },
          "metadata": {
            "tags": []
          },
          "execution_count": 22
        }
      ]
    },
    {
      "cell_type": "code",
      "metadata": {
        "id": "T-2mvBhRLGSr",
        "colab_type": "code",
        "colab": {}
      },
      "source": [
        "from tensorflow.keras.preprocessing.text import Tokenizer\n",
        "from tensorflow.keras.preprocessing.sequence import pad_sequences"
      ],
      "execution_count": 0,
      "outputs": []
    },
    {
      "cell_type": "code",
      "metadata": {
        "id": "Nm21zp2CLJwk",
        "colab_type": "code",
        "colab": {}
      },
      "source": [
        "MAX_NO_OF_UNIQUE_WORDS = 30000\n",
        "tokenizer = Tokenizer(num_words=MAX_NO_OF_UNIQUE_WORDS)\n",
        "tokenizer.fit_on_texts(X_train)"
      ],
      "execution_count": 0,
      "outputs": []
    },
    {
      "cell_type": "code",
      "metadata": {
        "id": "7emeQAJRLR6d",
        "colab_type": "code",
        "colab": {}
      },
      "source": [
        "tokenizer.get_config()"
      ],
      "execution_count": 0,
      "outputs": []
    },
    {
      "cell_type": "code",
      "metadata": {
        "id": "xYix3uVILaps",
        "colab_type": "code",
        "colab": {}
      },
      "source": [
        "X_train = tokenizer.texts_to_sequences(X_train)\n",
        "X_val = tokenizer.texts_to_sequences(X_val)"
      ],
      "execution_count": 0,
      "outputs": []
    },
    {
      "cell_type": "code",
      "metadata": {
        "id": "S8ujmZJ5LdV2",
        "colab_type": "code",
        "colab": {
          "base_uri": "https://localhost:8080/",
          "height": 34
        },
        "outputId": "708adae9-1b24-426f-ade3-629cdc46f2ae"
      },
      "source": [
        "len_of_seq_train = [ len(s) for s in X_train]\n",
        "max_len_after_pad_train = max(len_of_seq_train)\n",
        "print(max_len_after_pad_train)"
      ],
      "execution_count": 27,
      "outputs": [
        {
          "output_type": "stream",
          "text": [
            "1645\n"
          ],
          "name": "stdout"
        }
      ]
    },
    {
      "cell_type": "code",
      "metadata": {
        "id": "MBhD-gk9LvTO",
        "colab_type": "code",
        "colab": {
          "base_uri": "https://localhost:8080/",
          "height": 34
        },
        "outputId": "cf59c5a0-4622-4df3-eb6e-78a7669260a2"
      },
      "source": [
        "len_of_seq_val = [ len(s) for s in X_val ]\n",
        "max_len_after_pad_val = max(len_of_seq_val)\n",
        "print(max_len_after_pad_val)"
      ],
      "execution_count": 28,
      "outputs": [
        {
          "output_type": "stream",
          "text": [
            "867\n"
          ],
          "name": "stdout"
        }
      ]
    },
    {
      "cell_type": "code",
      "metadata": {
        "id": "vLXP5HVCLyOg",
        "colab_type": "code",
        "colab": {
          "base_uri": "https://localhost:8080/",
          "height": 34
        },
        "outputId": "39fa6429-67a1-479b-a7f1-1e4fa70f60b8"
      },
      "source": [
        "MAX_LEN_OF_SEQ = max([max_len_after_pad_train,max_len_after_pad_val])\n",
        "print(MAX_LEN_OF_SEQ)"
      ],
      "execution_count": 29,
      "outputs": [
        {
          "output_type": "stream",
          "text": [
            "1645\n"
          ],
          "name": "stdout"
        }
      ]
    },
    {
      "cell_type": "code",
      "metadata": {
        "id": "tny0VBXML3BJ",
        "colab_type": "code",
        "colab": {
          "base_uri": "https://localhost:8080/",
          "height": 34
        },
        "outputId": "49c3d3f0-93f5-48fd-c0bb-e640e761238f"
      },
      "source": [
        "word2idx = tokenizer.word_index\n",
        "V = len(word2idx)\n",
        "print(\"no of unique words = \",V)"
      ],
      "execution_count": 30,
      "outputs": [
        {
          "output_type": "stream",
          "text": [
            "no of unique words =  13738\n"
          ],
          "name": "stdout"
        }
      ]
    },
    {
      "cell_type": "code",
      "metadata": {
        "id": "Zb5IIvwtL4Lc",
        "colab_type": "code",
        "colab": {
          "base_uri": "https://localhost:8080/",
          "height": 34
        },
        "outputId": "362a63cc-25a9-41fc-a0fa-45b571e72dfc"
      },
      "source": [
        "X_train = pad_sequences(X_train)\n",
        "print(\"Paded shape : \",X_train.shape)\n",
        "T = X_train.shape[1]"
      ],
      "execution_count": 31,
      "outputs": [
        {
          "output_type": "stream",
          "text": [
            "Paded shape :  (1043, 1645)\n"
          ],
          "name": "stdout"
        }
      ]
    },
    {
      "cell_type": "code",
      "metadata": {
        "id": "flGK32iDMGum",
        "colab_type": "code",
        "colab": {
          "base_uri": "https://localhost:8080/",
          "height": 34
        },
        "outputId": "8d02eaa4-d1fc-4fc7-9d32-19a001b3fcee"
      },
      "source": [
        "X_val = pad_sequences(X_val, maxlen=T)\n",
        "print(\"Paded shape : \",X_val.shape)"
      ],
      "execution_count": 32,
      "outputs": [
        {
          "output_type": "stream",
          "text": [
            "Paded shape :  (447, 1645)\n"
          ],
          "name": "stdout"
        }
      ]
    },
    {
      "cell_type": "code",
      "metadata": {
        "id": "uCtMJ9fDMIEp",
        "colab_type": "code",
        "colab": {}
      },
      "source": [
        "from tensorflow.keras.layers import Input, Conv1D, MaxPooling1D, Dense, Embedding, GlobalMaxPooling1D, Concatenate, Dropout\n",
        "from tensorflow.keras.models import Model"
      ],
      "execution_count": 0,
      "outputs": []
    },
    {
      "cell_type": "code",
      "metadata": {
        "id": "2z7kJaK8MKkG",
        "colab_type": "code",
        "colab": {}
      },
      "source": [
        "D = 60\n",
        "\n",
        "i = Input(shape=(T,))\n",
        "x = Embedding(V+1,D)(i)\n",
        "x = Conv1D(32,3)(x)\n",
        "x = MaxPooling1D(3)(x)\n",
        "x = Conv1D(64,3)(x)\n",
        "x = MaxPooling1D(3)(x)\n",
        "x = Conv1D(128,3)(x)\n",
        "x = GlobalMaxPooling1D()(x)\n",
        "x = Dense(5,activation=\"softmax\")(x)\n",
        "\n",
        "model = Model(i,x)"
      ],
      "execution_count": 0,
      "outputs": []
    },
    {
      "cell_type": "code",
      "metadata": {
        "id": "I-C0LL_UMPi1",
        "colab_type": "code",
        "colab": {
          "base_uri": "https://localhost:8080/",
          "height": 469
        },
        "outputId": "da45b2b6-c630-49da-db2d-f01ede3fc48a"
      },
      "source": [
        "model.summary()"
      ],
      "execution_count": 35,
      "outputs": [
        {
          "output_type": "stream",
          "text": [
            "Model: \"model\"\n",
            "_________________________________________________________________\n",
            "Layer (type)                 Output Shape              Param #   \n",
            "=================================================================\n",
            "input_1 (InputLayer)         [(None, 1645)]            0         \n",
            "_________________________________________________________________\n",
            "embedding (Embedding)        (None, 1645, 60)          824340    \n",
            "_________________________________________________________________\n",
            "conv1d (Conv1D)              (None, 1643, 32)          5792      \n",
            "_________________________________________________________________\n",
            "max_pooling1d (MaxPooling1D) (None, 547, 32)           0         \n",
            "_________________________________________________________________\n",
            "conv1d_1 (Conv1D)            (None, 545, 64)           6208      \n",
            "_________________________________________________________________\n",
            "max_pooling1d_1 (MaxPooling1 (None, 181, 64)           0         \n",
            "_________________________________________________________________\n",
            "conv1d_2 (Conv1D)            (None, 179, 128)          24704     \n",
            "_________________________________________________________________\n",
            "global_max_pooling1d (Global (None, 128)               0         \n",
            "_________________________________________________________________\n",
            "dense (Dense)                (None, 5)                 645       \n",
            "=================================================================\n",
            "Total params: 861,689\n",
            "Trainable params: 861,689\n",
            "Non-trainable params: 0\n",
            "_________________________________________________________________\n"
          ],
          "name": "stdout"
        }
      ]
    },
    {
      "cell_type": "code",
      "metadata": {
        "id": "22EBLNZoMTD0",
        "colab_type": "code",
        "colab": {}
      },
      "source": [
        "model.compile(optimizer='adam', loss=\"sparse_categorical_crossentropy\", metrics=[\"accuracy\"])"
      ],
      "execution_count": 0,
      "outputs": []
    },
    {
      "cell_type": "code",
      "metadata": {
        "id": "CemQUMB-MWWi",
        "colab_type": "code",
        "colab": {
          "base_uri": "https://localhost:8080/",
          "height": 384
        },
        "outputId": "46d6407c-d2bd-4520-e8f3-7a9a87ec02c5"
      },
      "source": [
        "r = model.fit(X_train,Y_train, batch_size=32, epochs=10, validation_data=(X_val,Y_val))"
      ],
      "execution_count": 37,
      "outputs": [
        {
          "output_type": "stream",
          "text": [
            "Epoch 1/10\n",
            "33/33 [==============================] - 1s 26ms/step - loss: 1.6003 - accuracy: 0.2244 - val_loss: 1.5930 - val_accuracy: 0.2170\n",
            "Epoch 2/10\n",
            "33/33 [==============================] - 1s 19ms/step - loss: 1.4572 - accuracy: 0.3950 - val_loss: 1.2038 - val_accuracy: 0.5638\n",
            "Epoch 3/10\n",
            "33/33 [==============================] - 1s 18ms/step - loss: 0.5166 - accuracy: 0.8619 - val_loss: 0.2204 - val_accuracy: 0.9441\n",
            "Epoch 4/10\n",
            "33/33 [==============================] - 1s 19ms/step - loss: 0.0277 - accuracy: 0.9952 - val_loss: 0.1838 - val_accuracy: 0.9418\n",
            "Epoch 5/10\n",
            "33/33 [==============================] - 1s 19ms/step - loss: 0.0026 - accuracy: 1.0000 - val_loss: 0.1743 - val_accuracy: 0.9575\n",
            "Epoch 6/10\n",
            "33/33 [==============================] - 1s 19ms/step - loss: 9.5959e-04 - accuracy: 1.0000 - val_loss: 0.1720 - val_accuracy: 0.9664\n",
            "Epoch 7/10\n",
            "33/33 [==============================] - 1s 19ms/step - loss: 6.2344e-04 - accuracy: 1.0000 - val_loss: 0.1700 - val_accuracy: 0.9664\n",
            "Epoch 8/10\n",
            "33/33 [==============================] - 1s 20ms/step - loss: 4.8796e-04 - accuracy: 1.0000 - val_loss: 0.1698 - val_accuracy: 0.9642\n",
            "Epoch 9/10\n",
            "33/33 [==============================] - 1s 19ms/step - loss: 3.9369e-04 - accuracy: 1.0000 - val_loss: 0.1702 - val_accuracy: 0.9664\n",
            "Epoch 10/10\n",
            "33/33 [==============================] - 1s 19ms/step - loss: 3.2818e-04 - accuracy: 1.0000 - val_loss: 0.1707 - val_accuracy: 0.9664\n"
          ],
          "name": "stdout"
        }
      ]
    },
    {
      "cell_type": "code",
      "metadata": {
        "id": "xXU49Fi5MbWp",
        "colab_type": "code",
        "colab": {
          "base_uri": "https://localhost:8080/",
          "height": 265
        },
        "outputId": "4b6698ec-3071-4743-f743-c65891923c7d"
      },
      "source": [
        "import matplotlib.pyplot as plt\n",
        "\n",
        "plt.plot(r.history[\"loss\"],label=\"loss\")\n",
        "plt.plot(r.history[\"val_loss\"],label=\"val_loss\")\n",
        "plt.legend()\n",
        "plt.show()"
      ],
      "execution_count": 38,
      "outputs": [
        {
          "output_type": "display_data",
          "data": {
            "image/png": "[encoded data removed]",
            "text/plain": [
              "<Figure size 432x288 with 1 Axes>"
            ]
          },
          "metadata": {
            "tags": [],
            "needs_background": "light"
          }
        }
      ]
    },
    {
      "cell_type": "code",
      "metadata": {
        "id": "l4DbXJioMjh7",
        "colab_type": "code",
        "colab": {
          "base_uri": "https://localhost:8080/",
          "height": 265
        },
        "outputId": "2195dcb6-b576-485f-ac03-dbe0bb052c86"
      },
      "source": [
        "plt.plot(r.history[\"accuracy\"],label=\"accuracy\")\n",
        "plt.plot(r.history[\"val_accuracy\"],label=\"val_accuracy\")\n",
        "plt.legend()\n",
        "plt.show()"
      ],
      "execution_count": 39,
      "outputs": [
        {
          "output_type": "display_data",
          "data": {
            "image/png": "[encoded data removed]",
            "text/plain": [
              "<Figure size 432x288 with 1 Axes>"
            ]
          },
          "metadata": {
            "tags": [],
            "needs_background": "light"
          }
        }
      ]
    },
    {
      "cell_type": "code",
      "metadata": {
        "id": "y41Q9BfiMn5r",
        "colab_type": "code",
        "colab": {}
      },
      "source": [
        "model.save(\"/content/drive/My Drive/Colab Notebooks/NLP mini project/model2.h5\")"
      ],
      "execution_count": 0,
      "outputs": []
    },
    {
      "cell_type": "code",
      "metadata": {
        "id": "4NqBVH-CMrOx",
        "colab_type": "code",
        "colab": {}
      },
      "source": [
        "#---TEST SET EVAL ---------------------------\n",
        "df_test = pd.read_csv(\"/content/drive/My Drive/Colab Notebooks/NLP mini project/BBC News Test.csv\")\n",
        "\n",
        "proc_text2 = []\n",
        "ps = PorterStemmer()\n",
        "for i in range(len(df_test[\"Text\"])):\n",
        "  article = re.sub('[^a-zA-Z]',' ',df_test[\"Text\"][i])\n",
        "  article = article.lower()\n",
        "  article = article.split()\n",
        "  article = [ ps.stem(word) for word in article if word not in set(stopwords.words('english'))]\n",
        "  article = \" \".join(article)\n",
        "  proc_text2.append(article)\n",
        "\n",
        "df_test[\"processed_text\"] = proc_text2\n",
        "X_test = tokenizer.texts_to_sequences(df_test[\"processed_text\"])\n",
        "X_test = pad_sequences(X_test, maxlen=T)"
      ],
      "execution_count": 0,
      "outputs": []
    },
    {
      "cell_type": "code",
      "metadata": {
        "id": "mVBR_kF6Nz6E",
        "colab_type": "code",
        "colab": {}
      },
      "source": [
        "res = model.predict(X_test)"
      ],
      "execution_count": 0,
      "outputs": []
    },
    {
      "cell_type": "code",
      "metadata": {
        "id": "WM-8uMM6OIn8",
        "colab_type": "code",
        "colab": {}
      },
      "source": [
        "labels = [\"business\",\"entertainment\",\"politics\",\"sport\",\"tech\"]\n",
        "preds = []\n",
        "for c in res:\n",
        "  idx = np.argmax(c)\n",
        "  preds.append(labels[idx])"
      ],
      "execution_count": 0,
      "outputs": []
    },
    {
      "cell_type": "code",
      "metadata": {
        "id": "zPkN7irpOM4_",
        "colab_type": "code",
        "colab": {}
      },
      "source": [
        "df_test[\"Category\"] = preds"
      ],
      "execution_count": 0,
      "outputs": []
    },
    {
      "cell_type": "code",
      "metadata": {
        "id": "ZzmLAYQpOSmV",
        "colab_type": "code",
        "colab": {}
      },
      "source": [
        "df_new = df_test.drop(columns=[\"Text\",\"processed_text\"])"
      ],
      "execution_count": 0,
      "outputs": []
    },
    {
      "cell_type": "code",
      "metadata": {
        "id": "clXjXNdsOdac",
        "colab_type": "code",
        "colab": {
          "base_uri": "https://localhost:8080/",
          "height": 173
        },
        "outputId": "f1a60ac7-f919-4770-8727-060b61aa8631"
      },
      "source": [
        "df_new.info()"
      ],
      "execution_count": 47,
      "outputs": [
        {
          "output_type": "stream",
          "text": [
            "<class 'pandas.core.frame.DataFrame'>\n",
            "RangeIndex: 735 entries, 0 to 734\n",
            "Data columns (total 2 columns):\n",
            " #   Column     Non-Null Count  Dtype \n",
            "---  ------     --------------  ----- \n",
            " 0   ArticleId  735 non-null    int64 \n",
            " 1   Category   735 non-null    object\n",
            "dtypes: int64(1), object(1)\n",
            "memory usage: 11.6+ KB\n"
          ],
          "name": "stdout"
        }
      ]
    },
    {
      "cell_type": "code",
      "metadata": {
        "id": "hXCYim8xOgCQ",
        "colab_type": "code",
        "colab": {}
      },
      "source": [
        "df_new.to_csv(\"/content/drive/My Drive/Colab Notebooks/NLP mini project/sub_3.csv\",index=False)"
      ],
      "execution_count": 0,
      "outputs": []
    }
  ]
}