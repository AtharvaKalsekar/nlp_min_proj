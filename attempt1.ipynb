{
  "nbformat": 4,
  "nbformat_minor": 0,
  "metadata": {
    "colab": {
      "name": "attempt1.ipynb",
      "provenance": [],
      "collapsed_sections": []
    },
    "kernelspec": {
      "name": "python3",
      "display_name": "Python 3"
    },
    "accelerator": "GPU"
  },
  "cells": [
    {
      "cell_type": "code",
      "metadata": {
        "id": "Hfk6IXQpmtv6",
        "colab_type": "code",
        "outputId": "ce5589ed-c233-429c-c90a-b3a6be33c135",
        "colab": {
          "base_uri": "https://localhost:8080/",
          "height": 50
        }
      },
      "source": [
        "!unzip \"/content/drive/My Drive/Colab Notebooks/NLP mini project/BBC News Train.csv.zip\" -d \"/content/drive/My Drive/Colab Notebooks/NLP mini project/\""
      ],
      "execution_count": 0,
      "outputs": [
        {
          "output_type": "stream",
          "text": [
            "Archive:  /content/drive/My Drive/Colab Notebooks/NLP mini project/BBC News Train.csv.zip\n",
            "  inflating: /content/drive/My Drive/Colab Notebooks/NLP mini project/BBC News Train.csv  \n"
          ],
          "name": "stdout"
        }
      ]
    },
    {
      "cell_type": "code",
      "metadata": {
        "id": "kU5w9ALzphRw",
        "colab_type": "code",
        "outputId": "ebb71380-8e41-43b0-b2fc-0e63d7b64888",
        "colab": {
          "base_uri": "https://localhost:8080/",
          "height": 50
        }
      },
      "source": [
        "!unzip \"/content/drive/My Drive/Colab Notebooks/NLP mini project/BBC News Test.csv.zip\" -d \"/content/drive/My Drive/Colab Notebooks/NLP mini project/\""
      ],
      "execution_count": 0,
      "outputs": [
        {
          "output_type": "stream",
          "text": [
            "Archive:  /content/drive/My Drive/Colab Notebooks/NLP mini project/BBC News Test.csv.zip\n",
            "  inflating: /content/drive/My Drive/Colab Notebooks/NLP mini project/BBC News Test.csv  \n"
          ],
          "name": "stdout"
        }
      ]
    },
    {
      "cell_type": "code",
      "metadata": {
        "id": "QFFupUR5t3gL",
        "colab_type": "code",
        "colab": {}
      },
      "source": [
        "%tensorflow_version 2.x"
      ],
      "execution_count": 0,
      "outputs": []
    },
    {
      "cell_type": "code",
      "metadata": {
        "id": "n2-n9LHEFUUh",
        "colab_type": "code",
        "outputId": "0739a5ee-7f16-4a9e-da25-3ed8ef213843",
        "colab": {
          "base_uri": "https://localhost:8080/",
          "height": 34
        }
      },
      "source": [
        "import tensorflow as tf\n",
        "tf.__version__"
      ],
      "execution_count": 0,
      "outputs": [
        {
          "output_type": "execute_result",
          "data": {
            "text/plain": [
              "'2.2.0'"
            ]
          },
          "metadata": {
            "tags": []
          },
          "execution_count": 2
        }
      ]
    },
    {
      "cell_type": "code",
      "metadata": {
        "id": "OyodFIblppy9",
        "colab_type": "code",
        "colab": {}
      },
      "source": [
        "import pandas as pd\n",
        "import numpy as np"
      ],
      "execution_count": 0,
      "outputs": []
    },
    {
      "cell_type": "code",
      "metadata": {
        "id": "EZp3C6hdptHZ",
        "colab_type": "code",
        "colab": {}
      },
      "source": [
        "df_train = pd.read_csv(\"/content/drive/My Drive/Colab Notebooks/NLP mini project/BBC News Train.csv\")"
      ],
      "execution_count": 0,
      "outputs": []
    },
    {
      "cell_type": "code",
      "metadata": {
        "id": "rWnBQeOUp3Fl",
        "colab_type": "code",
        "outputId": "d1f4d73c-4e37-4848-ea1a-234180e19b26",
        "colab": {
          "base_uri": "https://localhost:8080/",
          "height": 33
        }
      },
      "source": [
        "df_train.shape"
      ],
      "execution_count": 0,
      "outputs": [
        {
          "output_type": "execute_result",
          "data": {
            "text/plain": [
              "(1490, 3)"
            ]
          },
          "metadata": {
            "tags": []
          },
          "execution_count": 4
        }
      ]
    },
    {
      "cell_type": "code",
      "metadata": {
        "id": "qpIi97jgp4kv",
        "colab_type": "code",
        "outputId": "c11c8c21-7ca1-481a-fb53-770100f8d3c9",
        "colab": {
          "base_uri": "https://localhost:8080/",
          "height": 183
        }
      },
      "source": [
        "df_train.info()"
      ],
      "execution_count": 0,
      "outputs": [
        {
          "output_type": "stream",
          "text": [
            "<class 'pandas.core.frame.DataFrame'>\n",
            "RangeIndex: 1490 entries, 0 to 1489\n",
            "Data columns (total 3 columns):\n",
            " #   Column     Non-Null Count  Dtype \n",
            "---  ------     --------------  ----- \n",
            " 0   ArticleId  1490 non-null   int64 \n",
            " 1   Text       1490 non-null   object\n",
            " 2   Category   1490 non-null   object\n",
            "dtypes: int64(1), object(2)\n",
            "memory usage: 35.0+ KB\n"
          ],
          "name": "stdout"
        }
      ]
    },
    {
      "cell_type": "code",
      "metadata": {
        "id": "Qf-JAMmTsRGq",
        "colab_type": "code",
        "colab": {}
      },
      "source": [
        "df_train.drop([\"ArticleId\"],axis=1,inplace=True)"
      ],
      "execution_count": 0,
      "outputs": []
    },
    {
      "cell_type": "code",
      "metadata": {
        "id": "l9c2C0ovp9dX",
        "colab_type": "code",
        "outputId": "35bee2ab-be68-40d4-8dd7-7e8617e56aba",
        "colab": {
          "base_uri": "https://localhost:8080/",
          "height": 33
        }
      },
      "source": [
        "set(df_train[\"Category\"])"
      ],
      "execution_count": 0,
      "outputs": [
        {
          "output_type": "execute_result",
          "data": {
            "text/plain": [
              "{'business', 'entertainment', 'politics', 'sport', 'tech'}"
            ]
          },
          "metadata": {
            "tags": []
          },
          "execution_count": 6
        }
      ]
    },
    {
      "cell_type": "code",
      "metadata": {
        "id": "wSfhERHDqKwN",
        "colab_type": "code",
        "colab": {}
      },
      "source": [
        "df_train[\"labels\"] = df_train[\"Category\"].map({\"business\":0,\"entertainment\":1,\"politics\":2,\"sport\":3,\"tech\":4})"
      ],
      "execution_count": 0,
      "outputs": []
    },
    {
      "cell_type": "code",
      "metadata": {
        "id": "K5c5XGcGux3x",
        "colab_type": "code",
        "colab": {}
      },
      "source": [
        "from sklearn.model_selection import train_test_split\n",
        "\n",
        "X_train, X_val, Y_train, Y_val = train_test_split(df_train[\"Text\"],df_train[\"labels\"],test_size=0.3, random_state=0)"
      ],
      "execution_count": 0,
      "outputs": []
    },
    {
      "cell_type": "code",
      "metadata": {
        "id": "rkOPMPWTSQz3",
        "colab_type": "code",
        "outputId": "7ee64319-1026-4f81-ab7a-ab8600e163dc",
        "colab": {
          "base_uri": "https://localhost:8080/",
          "height": 33
        }
      },
      "source": [
        "X_train.shape, X_val.shape, Y_train.shape, Y_val.shape"
      ],
      "execution_count": 0,
      "outputs": [
        {
          "output_type": "execute_result",
          "data": {
            "text/plain": [
              "((1043,), (447,), (1043,), (447,))"
            ]
          },
          "metadata": {
            "tags": []
          },
          "execution_count": 9
        }
      ]
    },
    {
      "cell_type": "code",
      "metadata": {
        "id": "j5c6gZgRSYLj",
        "colab_type": "code",
        "outputId": "26a95756-1480-466a-c7ea-5350bf21748e",
        "colab": {
          "base_uri": "https://localhost:8080/",
          "height": 33
        }
      },
      "source": [
        "set(Y_train)"
      ],
      "execution_count": 0,
      "outputs": [
        {
          "output_type": "execute_result",
          "data": {
            "text/plain": [
              "{0, 1, 2, 3, 4}"
            ]
          },
          "metadata": {
            "tags": []
          },
          "execution_count": 10
        }
      ]
    },
    {
      "cell_type": "code",
      "metadata": {
        "id": "v8sxwZDQttfj",
        "colab_type": "code",
        "colab": {}
      },
      "source": [
        "from tensorflow.keras.preprocessing.text import Tokenizer\n",
        "from tensorflow.keras.preprocessing.sequence import pad_sequences"
      ],
      "execution_count": 0,
      "outputs": []
    },
    {
      "cell_type": "code",
      "metadata": {
        "id": "t7zC87IjuKH6",
        "colab_type": "code",
        "colab": {}
      },
      "source": [
        "MAX_NO_OF_UNIQUE_WORDS = 30000\n",
        "tokenizer = Tokenizer(num_words=MAX_NO_OF_UNIQUE_WORDS)\n",
        "tokenizer.fit_on_texts(X_train)"
      ],
      "execution_count": 0,
      "outputs": []
    },
    {
      "cell_type": "code",
      "metadata": {
        "id": "An1FeY3LjCfq",
        "colab_type": "code",
        "colab": {}
      },
      "source": [
        "temp1 = tokenizer.texts_to_matrix(X_train)"
      ],
      "execution_count": 0,
      "outputs": []
    },
    {
      "cell_type": "code",
      "metadata": {
        "id": "itHbm4ohjY4S",
        "colab_type": "code",
        "colab": {}
      },
      "source": [
        "tokenizer.get_config()"
      ],
      "execution_count": 0,
      "outputs": []
    },
    {
      "cell_type": "code",
      "metadata": {
        "id": "QCrgQEoUHE2a",
        "colab_type": "code",
        "colab": {}
      },
      "source": [
        "X_train = tokenizer.texts_to_sequences(X_train)\n",
        "X_val = tokenizer.texts_to_sequences(X_val)"
      ],
      "execution_count": 0,
      "outputs": []
    },
    {
      "cell_type": "code",
      "metadata": {
        "id": "GU--1-yWvmbl",
        "colab_type": "code",
        "outputId": "229b9df9-ebb7-4fe6-b176-6947163f08c9",
        "colab": {
          "base_uri": "https://localhost:8080/",
          "height": 33
        }
      },
      "source": [
        "len_of_seq_train = [ len(s) for s in X_train]\n",
        "max_len_after_pad_train = max(len_of_seq_train)\n",
        "print(max_len_after_pad_train)"
      ],
      "execution_count": 0,
      "outputs": [
        {
          "output_type": "stream",
          "text": [
            "3356\n"
          ],
          "name": "stdout"
        }
      ]
    },
    {
      "cell_type": "code",
      "metadata": {
        "id": "7bhswTUawEB7",
        "colab_type": "code",
        "outputId": "440419e7-42c4-4956-caac-3dbe8f921c6d",
        "colab": {
          "base_uri": "https://localhost:8080/",
          "height": 33
        }
      },
      "source": [
        "len_of_seq_val = [ len(s) for s in X_val ]\n",
        "max_len_after_pad_val = max(len_of_seq_val)\n",
        "print(max_len_after_pad_val)"
      ],
      "execution_count": 0,
      "outputs": [
        {
          "output_type": "stream",
          "text": [
            "1644\n"
          ],
          "name": "stdout"
        }
      ]
    },
    {
      "cell_type": "code",
      "metadata": {
        "id": "MEIvIS6fwRan",
        "colab_type": "code",
        "outputId": "d94a2f71-46cf-4da9-ef3e-514d61464736",
        "colab": {
          "base_uri": "https://localhost:8080/",
          "height": 33
        }
      },
      "source": [
        "MAX_LEN_OF_SEQ = max([max_len_after_pad_train,max_len_after_pad_val])\n",
        "print(MAX_LEN_OF_SEQ)"
      ],
      "execution_count": 0,
      "outputs": [
        {
          "output_type": "stream",
          "text": [
            "3356\n"
          ],
          "name": "stdout"
        }
      ]
    },
    {
      "cell_type": "code",
      "metadata": {
        "id": "Tnv50NvlweBW",
        "colab_type": "code",
        "outputId": "857db0a1-dd13-4414-d94d-2f71bb7d00b4",
        "colab": {
          "base_uri": "https://localhost:8080/",
          "height": 33
        }
      },
      "source": [
        "word2idx = tokenizer.word_index\n",
        "V = len(word2idx)\n",
        "print(\"no of unique words = \",V)"
      ],
      "execution_count": 0,
      "outputs": [
        {
          "output_type": "stream",
          "text": [
            "no of unique words =  21396\n"
          ],
          "name": "stdout"
        }
      ]
    },
    {
      "cell_type": "code",
      "metadata": {
        "id": "vsB_CLwLKH5b",
        "colab_type": "code",
        "outputId": "f965c27d-080a-4afe-b6ab-390f466842ad",
        "colab": {
          "base_uri": "https://localhost:8080/",
          "height": 33
        }
      },
      "source": [
        "X_train = pad_sequences(X_train)\n",
        "print(\"Paded shape : \",X_train.shape)\n",
        "T = X_train.shape[1]"
      ],
      "execution_count": 0,
      "outputs": [
        {
          "output_type": "stream",
          "text": [
            "Paded shape :  (1043, 3356)\n"
          ],
          "name": "stdout"
        }
      ]
    },
    {
      "cell_type": "code",
      "metadata": {
        "id": "ePU-EOqTKyLY",
        "colab_type": "code",
        "outputId": "d47af5cd-2a0a-4c81-8f28-b3410b886437",
        "colab": {
          "base_uri": "https://localhost:8080/",
          "height": 33
        }
      },
      "source": [
        "X_val = pad_sequences(X_val, maxlen=T)\n",
        "print(\"Paded shape : \",X_val.shape)"
      ],
      "execution_count": 0,
      "outputs": [
        {
          "output_type": "stream",
          "text": [
            "Paded shape :  (447, 3356)\n"
          ],
          "name": "stdout"
        }
      ]
    },
    {
      "cell_type": "code",
      "metadata": {
        "id": "97ayVe8rK97W",
        "colab_type": "code",
        "colab": {}
      },
      "source": [
        "from tensorflow.keras.layers import Input, Conv1D, MaxPooling1D, Dense, Embedding, GlobalMaxPooling1D, Concatenate, Dropout\n",
        "from tensorflow.keras.models import Model"
      ],
      "execution_count": 0,
      "outputs": []
    },
    {
      "cell_type": "code",
      "metadata": {
        "id": "8KNS-z79MlDv",
        "colab_type": "code",
        "colab": {}
      },
      "source": [
        "D = 60\n",
        "\n",
        "i = Input(shape=(T,))\n",
        "x = Embedding(V+1,D)(i)\n",
        "x = Conv1D(32,3)(x)\n",
        "x = MaxPooling1D(3)(x)\n",
        "x = Conv1D(64,3)(x)\n",
        "x = MaxPooling1D(3)(x)\n",
        "x = Conv1D(128,3)(x)\n",
        "x = GlobalMaxPooling1D()(x)\n",
        "x = Dense(5,activation=\"softmax\")(x)\n",
        "\n",
        "model = Model(i,x)"
      ],
      "execution_count": 0,
      "outputs": []
    },
    {
      "cell_type": "code",
      "metadata": {
        "id": "vZggT-9wOJA8",
        "colab_type": "code",
        "outputId": "47154bdf-d182-4c8c-a858-86ac8f2cb46c",
        "colab": {
          "base_uri": "https://localhost:8080/",
          "height": 450
        }
      },
      "source": [
        "model.summary()"
      ],
      "execution_count": 0,
      "outputs": [
        {
          "output_type": "stream",
          "text": [
            "Model: \"model_1\"\n",
            "_________________________________________________________________\n",
            "Layer (type)                 Output Shape              Param #   \n",
            "=================================================================\n",
            "input_2 (InputLayer)         [(None, 3356)]            0         \n",
            "_________________________________________________________________\n",
            "embedding_1 (Embedding)      (None, 3356, 60)          1283820   \n",
            "_________________________________________________________________\n",
            "conv1d_3 (Conv1D)            (None, 3354, 32)          5792      \n",
            "_________________________________________________________________\n",
            "max_pooling1d_2 (MaxPooling1 (None, 1118, 32)          0         \n",
            "_________________________________________________________________\n",
            "conv1d_4 (Conv1D)            (None, 1116, 64)          6208      \n",
            "_________________________________________________________________\n",
            "max_pooling1d_3 (MaxPooling1 (None, 372, 64)           0         \n",
            "_________________________________________________________________\n",
            "conv1d_5 (Conv1D)            (None, 370, 128)          24704     \n",
            "_________________________________________________________________\n",
            "global_max_pooling1d_1 (Glob (None, 128)               0         \n",
            "_________________________________________________________________\n",
            "dense_1 (Dense)              (None, 5)                 645       \n",
            "=================================================================\n",
            "Total params: 1,321,169\n",
            "Trainable params: 1,321,169\n",
            "Non-trainable params: 0\n",
            "_________________________________________________________________\n"
          ],
          "name": "stdout"
        }
      ]
    },
    {
      "cell_type": "code",
      "metadata": {
        "id": "ra0-cw9AOKL5",
        "colab_type": "code",
        "colab": {}
      },
      "source": [
        "model.compile(optimizer='adam', loss=\"sparse_categorical_crossentropy\", metrics=[\"accuracy\"])"
      ],
      "execution_count": 0,
      "outputs": []
    },
    {
      "cell_type": "code",
      "metadata": {
        "id": "J-IdmMfGOnle",
        "colab_type": "code",
        "outputId": "33939643-d46c-421a-d8d6-5658240e637a",
        "colab": {
          "base_uri": "https://localhost:8080/",
          "height": 350
        }
      },
      "source": [
        "r = model.fit(X_train,Y_train, batch_size=32, epochs=10, validation_data=(X_val,Y_val))"
      ],
      "execution_count": 0,
      "outputs": [
        {
          "output_type": "stream",
          "text": [
            "Epoch 1/10\n",
            "33/33 [==============================] - 2s 46ms/step - loss: 1.6039 - accuracy: 0.2196 - val_loss: 1.5953 - val_accuracy: 0.2215\n",
            "Epoch 2/10\n",
            "33/33 [==============================] - 1s 33ms/step - loss: 1.5302 - accuracy: 0.3490 - val_loss: 1.5118 - val_accuracy: 0.4072\n",
            "Epoch 3/10\n",
            "33/33 [==============================] - 1s 34ms/step - loss: 1.1217 - accuracy: 0.6232 - val_loss: 0.7431 - val_accuracy: 0.7875\n",
            "Epoch 4/10\n",
            "33/33 [==============================] - 1s 34ms/step - loss: 0.2939 - accuracy: 0.9319 - val_loss: 0.2909 - val_accuracy: 0.8881\n",
            "Epoch 5/10\n",
            "33/33 [==============================] - 1s 35ms/step - loss: 0.0181 - accuracy: 0.9981 - val_loss: 0.2220 - val_accuracy: 0.9239\n",
            "Epoch 6/10\n",
            "33/33 [==============================] - 1s 34ms/step - loss: 0.0038 - accuracy: 1.0000 - val_loss: 0.1948 - val_accuracy: 0.9374\n",
            "Epoch 7/10\n",
            "33/33 [==============================] - 1s 34ms/step - loss: 0.0013 - accuracy: 1.0000 - val_loss: 0.2200 - val_accuracy: 0.9262\n",
            "Epoch 8/10\n",
            "33/33 [==============================] - 1s 34ms/step - loss: 8.4144e-04 - accuracy: 1.0000 - val_loss: 0.2096 - val_accuracy: 0.9262\n",
            "Epoch 9/10\n",
            "33/33 [==============================] - 1s 34ms/step - loss: 6.3131e-04 - accuracy: 1.0000 - val_loss: 0.2129 - val_accuracy: 0.9239\n",
            "Epoch 10/10\n",
            "33/33 [==============================] - 1s 36ms/step - loss: 5.0991e-04 - accuracy: 1.0000 - val_loss: 0.2143 - val_accuracy: 0.9239\n"
          ],
          "name": "stdout"
        }
      ]
    },
    {
      "cell_type": "code",
      "metadata": {
        "id": "5ztfu-_0nA84",
        "colab_type": "code",
        "outputId": "ea877fe4-2011-47b7-b883-593e6c8a1ab4",
        "colab": {
          "base_uri": "https://localhost:8080/",
          "height": 264
        }
      },
      "source": [
        "import matplotlib.pyplot as plt\n",
        "\n",
        "plt.plot(r.history[\"loss\"],label=\"loss\")\n",
        "plt.plot(r.history[\"val_loss\"],label=\"val_loss\")\n",
        "plt.legend()\n",
        "plt.show()"
      ],
      "execution_count": 0,
      "outputs": [
        {
          "output_type": "display_data",
          "data": {
            "image/png": "[encoded data removed]",
            "text/plain": [
              "<Figure size 432x288 with 1 Axes>"
            ]
          },
          "metadata": {
            "tags": [],
            "needs_background": "light"
          }
        }
      ]
    },
    {
      "cell_type": "code",
      "metadata": {
        "id": "h3Z9IN37nDVh",
        "colab_type": "code",
        "outputId": "7564af31-19e0-4d7a-ff10-00610ef8d994",
        "colab": {
          "base_uri": "https://localhost:8080/",
          "height": 264
        }
      },
      "source": [
        "plt.plot(r.history[\"accuracy\"],label=\"accuracy\")\n",
        "plt.plot(r.history[\"val_accuracy\"],label=\"val_accuracy\")\n",
        "plt.legend()\n",
        "plt.show()"
      ],
      "execution_count": 0,
      "outputs": [
        {
          "output_type": "display_data",
          "data": {
            "image/png": "[encoded data removed]",
            "text/plain": [
              "<Figure size 432x288 with 1 Axes>"
            ]
          },
          "metadata": {
            "tags": [],
            "needs_background": "light"
          }
        }
      ]
    },
    {
      "cell_type": "code",
      "metadata": {
        "id": "wAKoRbaiibal",
        "colab_type": "code",
        "colab": {}
      },
      "source": [
        "model.save(\"/content/drive/My Drive/Colab Notebooks/NLP mini project/model.h5\")"
      ],
      "execution_count": 0,
      "outputs": []
    },
    {
      "cell_type": "code",
      "metadata": {
        "id": "YmJv2PeATt66",
        "colab_type": "code",
        "colab": {}
      },
      "source": [
        "df_test = pd.read_csv(\"/content/drive/My Drive/Colab Notebooks/NLP mini project/BBC News Test.csv\")\n",
        "X_test = tokenizer.texts_to_sequences(df_test[\"Text\"])\n",
        "X_test = pad_sequences(X_test, maxlen=T)"
      ],
      "execution_count": 0,
      "outputs": []
    },
    {
      "cell_type": "code",
      "metadata": {
        "id": "_gCTlqvqUTY2",
        "colab_type": "code",
        "outputId": "81f126a7-6036-40f8-db8d-dfa92855e969",
        "colab": {
          "base_uri": "https://localhost:8080/",
          "height": 33
        }
      },
      "source": [
        "X_test.shape"
      ],
      "execution_count": 0,
      "outputs": [
        {
          "output_type": "execute_result",
          "data": {
            "text/plain": [
              "(735, 3356)"
            ]
          },
          "metadata": {
            "tags": []
          },
          "execution_count": 31
        }
      ]
    },
    {
      "cell_type": "code",
      "metadata": {
        "id": "mst2bLLQUU-q",
        "colab_type": "code",
        "colab": {}
      },
      "source": [
        "res = model.predict(X_test)"
      ],
      "execution_count": 0,
      "outputs": []
    },
    {
      "cell_type": "code",
      "metadata": {
        "id": "YdlNoDzPVBYd",
        "colab_type": "code",
        "outputId": "c020c3f1-6a96-4e82-8274-4d2256e69339",
        "colab": {
          "base_uri": "https://localhost:8080/",
          "height": 33
        }
      },
      "source": [
        "res.shape"
      ],
      "execution_count": 0,
      "outputs": [
        {
          "output_type": "execute_result",
          "data": {
            "text/plain": [
              "(735, 5)"
            ]
          },
          "metadata": {
            "tags": []
          },
          "execution_count": 33
        }
      ]
    },
    {
      "cell_type": "code",
      "metadata": {
        "id": "5rBuYoX4VHYw",
        "colab_type": "code",
        "outputId": "abfefa80-3e94-4eb1-99ef-57019e76954d",
        "colab": {
          "base_uri": "https://localhost:8080/",
          "height": 50
        }
      },
      "source": [
        "res[0]"
      ],
      "execution_count": 0,
      "outputs": [
        {
          "output_type": "execute_result",
          "data": {
            "text/plain": [
              "array([1.1916641e-09, 2.9604429e-02, 3.1398700e-04, 9.7008163e-01,\n",
              "       8.8579304e-09], dtype=float32)"
            ]
          },
          "metadata": {
            "tags": []
          },
          "execution_count": 34
        }
      ]
    },
    {
      "cell_type": "code",
      "metadata": {
        "id": "CoqZXnDFWqAb",
        "colab_type": "code",
        "colab": {}
      },
      "source": [
        "labels = [\"business\",\"entertainment\",\"politics\",\"sport\",\"tech\"]\n",
        "preds = []\n",
        "for c in res:\n",
        "  idx = np.argmax(c)\n",
        "  preds.append(labels[idx])"
      ],
      "execution_count": 0,
      "outputs": []
    },
    {
      "cell_type": "code",
      "metadata": {
        "id": "LLPnaRRKW5vO",
        "colab_type": "code",
        "outputId": "74cd65ad-beeb-4555-ec40-45a60ea865fe",
        "colab": {
          "base_uri": "https://localhost:8080/",
          "height": 33
        }
      },
      "source": [
        "len(preds)"
      ],
      "execution_count": 0,
      "outputs": [
        {
          "output_type": "execute_result",
          "data": {
            "text/plain": [
              "735"
            ]
          },
          "metadata": {
            "tags": []
          },
          "execution_count": 45
        }
      ]
    },
    {
      "cell_type": "code",
      "metadata": {
        "id": "Fq3K1h51X_dL",
        "colab_type": "code",
        "colab": {}
      },
      "source": [
        "sample_sub = pd.read_csv(\"/content/drive/My Drive/Colab Notebooks/NLP mini project/BBC News Sample Solution.csv\")"
      ],
      "execution_count": 0,
      "outputs": []
    },
    {
      "cell_type": "code",
      "metadata": {
        "id": "lf0kP2r6YKUt",
        "colab_type": "code",
        "colab": {}
      },
      "source": [
        "df_test[\"Category\"] = preds"
      ],
      "execution_count": 0,
      "outputs": []
    },
    {
      "cell_type": "code",
      "metadata": {
        "id": "NaTYVPacYrOO",
        "colab_type": "code",
        "colab": {}
      },
      "source": [
        "df_new = df_test.drop([\"Text\"],axis=1)"
      ],
      "execution_count": 0,
      "outputs": []
    },
    {
      "cell_type": "code",
      "metadata": {
        "id": "G9nHnc4qYoVU",
        "colab_type": "code",
        "outputId": "31b837a1-d11c-43ac-ccf0-842abcb71b0f",
        "colab": {
          "base_uri": "https://localhost:8080/",
          "height": 183
        }
      },
      "source": [
        "df_test.info()"
      ],
      "execution_count": 0,
      "outputs": [
        {
          "output_type": "stream",
          "text": [
            "<class 'pandas.core.frame.DataFrame'>\n",
            "RangeIndex: 735 entries, 0 to 734\n",
            "Data columns (total 3 columns):\n",
            " #   Column     Non-Null Count  Dtype \n",
            "---  ------     --------------  ----- \n",
            " 0   ArticleId  735 non-null    int64 \n",
            " 1   Text       735 non-null    object\n",
            " 2   Category   735 non-null    object\n",
            "dtypes: int64(1), object(2)\n",
            "memory usage: 17.4+ KB\n"
          ],
          "name": "stdout"
        }
      ]
    },
    {
      "cell_type": "code",
      "metadata": {
        "id": "eDfjroG0Yy81",
        "colab_type": "code",
        "outputId": "1008892d-6ba8-4d8e-a6ef-219bb9674dfe",
        "colab": {
          "base_uri": "https://localhost:8080/",
          "height": 166
        }
      },
      "source": [
        "df_new.info()"
      ],
      "execution_count": 0,
      "outputs": [
        {
          "output_type": "stream",
          "text": [
            "<class 'pandas.core.frame.DataFrame'>\n",
            "RangeIndex: 735 entries, 0 to 734\n",
            "Data columns (total 2 columns):\n",
            " #   Column     Non-Null Count  Dtype \n",
            "---  ------     --------------  ----- \n",
            " 0   ArticleId  735 non-null    int64 \n",
            " 1   Category   735 non-null    object\n",
            "dtypes: int64(1), object(1)\n",
            "memory usage: 11.6+ KB\n"
          ],
          "name": "stdout"
        }
      ]
    },
    {
      "cell_type": "code",
      "metadata": {
        "id": "TrZ9X22YY2R3",
        "colab_type": "code",
        "colab": {}
      },
      "source": [
        "codf_new.to_csv(\"/ntent/drive/My Drive/Colab Notebooks/NLP mini project/sub_2.csv\",index=False)"
      ],
      "execution_count": 0,
      "outputs": []
    },
    {
      "cell_type": "code",
      "metadata": {
        "id": "PN1CXkmkKkAe",
        "colab_type": "code",
        "outputId": "b5c6e0a4-9543-408f-c7ee-6b2d0e627ddd",
        "colab": {
          "base_uri": "https://localhost:8080/",
          "height": 54
        }
      },
      "source": [
        "df_temp=pd.read_csv(\"/content/drive/My Drive/Colab Notebooks/NLP mini project/BBC News Train.csv\")\n",
        "df_temp[\"Text\"][0]"
      ],
      "execution_count": 0,
      "outputs": [
        {
          "output_type": "execute_result",
          "data": {
            "text/plain": [
              "'worldcom ex-boss launches defence lawyers defending former worldcom chief bernie ebbers against a battery of fraud charges have called a company whistleblower as their first witness.  cynthia cooper  worldcom s ex-head of internal accounting  alerted directors to irregular accounting practices at the us telecoms giant in 2002. her warnings led to the collapse of the firm following the discovery of an $11bn (£5.7bn) accounting fraud. mr ebbers has pleaded not guilty to charges of fraud and conspiracy.  prosecution lawyers have argued that mr ebbers orchestrated a series of accounting tricks at worldcom  ordering employees to hide expenses and inflate revenues to meet wall street earnings estimates. but ms cooper  who now runs her own consulting business  told a jury in new york on wednesday that external auditors arthur andersen had approved worldcom s accounting in early 2001 and 2002. she said andersen had given a  green light  to the procedures and practices used by worldcom. mr ebber s lawyers have said he was unaware of the fraud  arguing that auditors did not alert him to any problems.  ms cooper also said that during shareholder meetings mr ebbers often passed over technical questions to the company s finance chief  giving only  brief  answers himself. the prosecution s star witness  former worldcom financial chief scott sullivan  has said that mr ebbers ordered accounting adjustments at the firm  telling him to  hit our books . however  ms cooper said mr sullivan had not mentioned  anything uncomfortable  about worldcom s accounting during a 2001 audit committee meeting. mr ebbers could face a jail sentence of 85 years if convicted of all the charges he is facing. worldcom emerged from bankruptcy protection in 2004  and is now known as mci. last week  mci agreed to a buyout by verizon communications in a deal valued at $6.75bn.'"
            ]
          },
          "metadata": {
            "tags": []
          },
          "execution_count": 4
        }
      ]
    },
    {
      "cell_type": "code",
      "metadata": {
        "id": "72DKyUoruW6r",
        "colab_type": "code",
        "outputId": "5eabfd0f-10f3-484c-9e0d-995dc4158d27",
        "colab": {
          "base_uri": "https://localhost:8080/",
          "height": 70
        }
      },
      "source": [
        "#Single query ----------------------\n",
        "q = df_test[\"Text\"][1]\n",
        "q = tokenizer.texts_to_sequences([q])\n",
        "print(\"t t s : \",q)\n",
        "q = pad_sequences(q, maxlen=T)\n",
        "print(\"pad : \",q)"
      ],
      "execution_count": 0,
      "outputs": [
        {
          "output_type": "stream",
          "text": [
            "t t s :  [[215, 1941, 106, 62, 147, 215, 10, 55, 28, 78, 1774, 316, 11884, 4, 270, 1749, 21, 5, 541, 23, 45, 15, 167, 18, 2990, 7300, 578, 3, 938, 559, 19, 39, 1149, 3119, 52, 5507, 949, 4, 11885, 20, 3682, 101, 2906, 2, 1522, 3208, 2037, 1, 2028, 529, 1, 304, 660, 11, 9, 5, 468, 172, 6, 1, 118, 372, 9, 7991, 4, 3330, 23, 3275, 5513, 24, 1073, 25, 1, 9471, 3709, 3, 90, 215, 1, 304, 9, 5, 1932, 2445, 178, 298, 150, 9472, 4, 1514, 11388, 11886, 215, 29, 20, 1242, 2707, 2, 924, 5, 304, 35, 55, 1774, 311, 1610, 1475, 11, 4, 16457, 7629, 1420, 471, 504, 43, 4, 43, 274, 24, 1411, 585, 6, 2705, 2566, 18, 5, 500, 3, 372, 7549, 11885, 4, 372, 5976, 24, 112, 4736, 1480, 27, 471, 32, 1130, 233, 2, 1, 291, 2421, 1722, 949, 996, 8627, 5, 778, 2960, 12, 42, 2902, 25, 11887, 279, 578, 10, 43, 60, 1716, 3, 2391, 4, 644, 266, 20, 39, 1829, 3, 76, 491, 3, 5507, 949, 11886, 215, 19, 229, 40, 17, 4377, 2, 2157, 2, 5, 328, 687, 10, 113, 3330, 994, 12, 5, 541, 19, 28, 39, 16458, 17, 7992, 1, 6952, 8, 1370, 1, 304, 300, 18, 5, 500, 3, 1, 2275, 3, 252, 487, 35, 4912, 266, 2, 1475, 57, 372, 8, 5, 1396, 851, 3, 67, 1, 1514, 304, 19, 39, 5997, 73, 32, 2905, 1844, 25, 298, 150, 9472, 35, 2307, 316, 270, 12, 5, 311, 2, 15, 7760, 2778, 11, 58, 219, 2906, 2, 1061, 1, 7993, 3, 4437, 1420, 4, 16459, 414, 29, 37, 39, 16460, 2, 5, 217, 149, 11888, 11889, 9473, 56, 3081, 2, 2662, 16461, 16462, 2341, 3109, 56, 5509, 997, 69, 2359, 1, 304, 55, 1774, 463, 1, 4993, 3, 9408, 1, 137, 3, 2318, 56, 6206, 1179, 56, 1, 7973, 3, 2401, 8, 516, 137, 1604, 2025, 10, 2496, 2439, 372, 90, 18, 2304, 24, 365, 7994, 5156, 11890, 90, 18, 16463, 2, 863, 16464, 4001, 3, 48, 14, 365, 5, 1241, 1082, 21, 113, 340, 67, 3275, 5513, 24, 1073, 10, 3208, 21, 147, 9, 28, 78, 3784, 2, 4790, 7, 3275, 23, 45, 2, 1, 1416, 178, 2906, 4, 38, 1205, 10, 9, 28, 1, 403, 13, 1206, 16465, 2031, 240, 3, 9472, 11, 9, 28, 52, 3499, 16466, 23, 50, 24, 520, 10, 62, 55, 1128, 172, 23, 62, 134, 225, 4001, 16, 13, 47, 225, 2, 3963, 10, 62, 24, 365, 5, 541, 18, 5, 3629, 3, 5, 160, 4, 10, 2906, 20, 5, 328, 7848, 2, 1475, 372, 16, 120]]\n",
            "pad :  [[  0   0   0 ... 372  16 120]]\n"
          ],
          "name": "stdout"
        }
      ]
    },
    {
      "cell_type": "code",
      "metadata": {
        "id": "D6wAOpZewI3y",
        "colab_type": "code",
        "colab": {}
      },
      "source": [
        "res = model.predict(q)"
      ],
      "execution_count": 0,
      "outputs": []
    },
    {
      "cell_type": "code",
      "metadata": {
        "id": "9lJv8m-TwNIU",
        "colab_type": "code",
        "outputId": "df1441db-9ada-41ab-afea-53786c1b4e4b",
        "colab": {
          "base_uri": "https://localhost:8080/",
          "height": 33
        }
      },
      "source": [
        "for c in res:\n",
        "  idx = np.argmax(c)\n",
        "  print(labels[idx])\n",
        "  "
      ],
      "execution_count": 0,
      "outputs": [
        {
          "output_type": "stream",
          "text": [
            "tech\n"
          ],
          "name": "stdout"
        }
      ]
    },
    {
      "cell_type": "code",
      "metadata": {
        "id": "1d38sBgyw6WF",
        "colab_type": "code",
        "colab": {}
      },
      "source": [
        "import pickle\n",
        "\n",
        "# saving\n",
        "with open('/content/drive/My Drive/Colab Notebooks/NLP mini project/tokenizer.pickle', 'wb') as handle:\n",
        "    pickle.dump(tokenizer, handle, protocol=pickle.HIGHEST_PROTOCOL)"
      ],
      "execution_count": 0,
      "outputs": []
    },
    {
      "cell_type": "code",
      "metadata": {
        "id": "RgqCHZ1DxCv5",
        "colab_type": "code",
        "colab": {}
      },
      "source": [
        "# loading\n",
        "with open('/content/drive/My Drive/Colab Notebooks/NLP mini project/tokenizer.pickle', 'rb') as handle:\n",
        "    tokenizer = pickle.load(handle)"
      ],
      "execution_count": 0,
      "outputs": []
    },
    {
      "cell_type": "code",
      "metadata": {
        "id": "K6GwLDD0xLg2",
        "colab_type": "code",
        "colab": {}
      },
      "source": [
        "layer_name = 'global_max_pooling1d_1'\n",
        "intermediate_layer_model = Model(inputs=model.input,\n",
        "                                 outputs=model.get_layer(layer_name).output)\n",
        "intermediate_output = intermediate_layer_model.predict(q)"
      ],
      "execution_count": 0,
      "outputs": []
    },
    {
      "cell_type": "code",
      "metadata": {
        "id": "2yKocY60zV83",
        "colab_type": "code",
        "outputId": "debb0c28-2836-4488-f97a-e00f4a127daa",
        "colab": {
          "base_uri": "https://localhost:8080/",
          "height": 33
        }
      },
      "source": [
        "intermediate_output[0].shape"
      ],
      "execution_count": 0,
      "outputs": [
        {
          "output_type": "execute_result",
          "data": {
            "text/plain": [
              "(128,)"
            ]
          },
          "metadata": {
            "tags": []
          },
          "execution_count": 55
        }
      ]
    },
    {
      "cell_type": "code",
      "metadata": {
        "id": "ZIUrpkA5zoFN",
        "colab_type": "code",
        "outputId": "204a8336-fdb7-451e-b8b5-7d60006e1ae0",
        "colab": {
          "base_uri": "https://localhost:8080/",
          "height": 33
        }
      },
      "source": [
        "type(intermediate_output[0])"
      ],
      "execution_count": 0,
      "outputs": [
        {
          "output_type": "execute_result",
          "data": {
            "text/plain": [
              "numpy.ndarray"
            ]
          },
          "metadata": {
            "tags": []
          },
          "execution_count": 56
        }
      ]
    }
  ]
}