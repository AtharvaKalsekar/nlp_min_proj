{
  "nbformat": 4,
  "nbformat_minor": 0,
  "metadata": {
    "colab": {
      "name": "attempt1.ipynb",
      "provenance": [],
      "collapsed_sections": []
    },
    "kernelspec": {
      "name": "python3",
      "display_name": "Python 3"
    },
    "accelerator": "GPU"
  },
  "cells": [
    {
      "cell_type": "code",
      "metadata": {
        "id": "Hfk6IXQpmtv6",
        "colab_type": "code",
        "outputId": "ce5589ed-c233-429c-c90a-b3a6be33c135",
        "colab": {
          "base_uri": "https://localhost:8080/",
          "height": 50
        }
      },
      "source": [
        "!unzip \"/content/drive/My Drive/Colab Notebooks/NLP mini project/BBC News Train.csv.zip\" -d \"/content/drive/My Drive/Colab Notebooks/NLP mini project/\""
      ],
      "execution_count": 0,
      "outputs": [
        {
          "output_type": "stream",
          "text": [
            "Archive:  /content/drive/My Drive/Colab Notebooks/NLP mini project/BBC News Train.csv.zip\n",
            "  inflating: /content/drive/My Drive/Colab Notebooks/NLP mini project/BBC News Train.csv  \n"
          ],
          "name": "stdout"
        }
      ]
    },
    {
      "cell_type": "code",
      "metadata": {
        "id": "kU5w9ALzphRw",
        "colab_type": "code",
        "outputId": "ebb71380-8e41-43b0-b2fc-0e63d7b64888",
        "colab": {
          "base_uri": "https://localhost:8080/",
          "height": 50
        }
      },
      "source": [
        "!unzip \"/content/drive/My Drive/Colab Notebooks/NLP mini project/BBC News Test.csv.zip\" -d \"/content/drive/My Drive/Colab Notebooks/NLP mini project/\""
      ],
      "execution_count": 0,
      "outputs": [
        {
          "output_type": "stream",
          "text": [
            "Archive:  /content/drive/My Drive/Colab Notebooks/NLP mini project/BBC News Test.csv.zip\n",
            "  inflating: /content/drive/My Drive/Colab Notebooks/NLP mini project/BBC News Test.csv  \n"
          ],
          "name": "stdout"
        }
      ]
    },
    {
      "cell_type": "code",
      "metadata": {
        "id": "QFFupUR5t3gL",
        "colab_type": "code",
        "colab": {}
      },
      "source": [
        "%tensorflow_version 2.x"
      ],
      "execution_count": 0,
      "outputs": []
    },
    {
      "cell_type": "code",
      "metadata": {
        "id": "OyodFIblppy9",
        "colab_type": "code",
        "colab": {}
      },
      "source": [
        "import pandas as pd\n",
        "import numpy as np"
      ],
      "execution_count": 0,
      "outputs": []
    },
    {
      "cell_type": "code",
      "metadata": {
        "id": "EZp3C6hdptHZ",
        "colab_type": "code",
        "colab": {}
      },
      "source": [
        "df_train = pd.read_csv(\"/content/drive/My Drive/Colab Notebooks/NLP mini project/BBC News Train.csv\")"
      ],
      "execution_count": 0,
      "outputs": []
    },
    {
      "cell_type": "code",
      "metadata": {
        "id": "rWnBQeOUp3Fl",
        "colab_type": "code",
        "outputId": "aa7ac224-5181-40dd-9334-76ffa2af6a0b",
        "colab": {
          "base_uri": "https://localhost:8080/",
          "height": 33
        }
      },
      "source": [
        "df_train.shape"
      ],
      "execution_count": 0,
      "outputs": [
        {
          "output_type": "execute_result",
          "data": {
            "text/plain": [
              "(1490, 3)"
            ]
          },
          "metadata": {
            "tags": []
          },
          "execution_count": 4
        }
      ]
    },
    {
      "cell_type": "code",
      "metadata": {
        "id": "qpIi97jgp4kv",
        "colab_type": "code",
        "outputId": "ac83c7d4-406c-48ac-ce9c-be1429e9b70a",
        "colab": {
          "base_uri": "https://localhost:8080/",
          "height": 183
        }
      },
      "source": [
        "df_train.info()"
      ],
      "execution_count": 0,
      "outputs": [
        {
          "output_type": "stream",
          "text": [
            "<class 'pandas.core.frame.DataFrame'>\n",
            "RangeIndex: 1490 entries, 0 to 1489\n",
            "Data columns (total 3 columns):\n",
            " #   Column     Non-Null Count  Dtype \n",
            "---  ------     --------------  ----- \n",
            " 0   ArticleId  1490 non-null   int64 \n",
            " 1   Text       1490 non-null   object\n",
            " 2   Category   1490 non-null   object\n",
            "dtypes: int64(1), object(2)\n",
            "memory usage: 35.0+ KB\n"
          ],
          "name": "stdout"
        }
      ]
    },
    {
      "cell_type": "code",
      "metadata": {
        "id": "Qf-JAMmTsRGq",
        "colab_type": "code",
        "colab": {}
      },
      "source": [
        "df_train.drop([\"ArticleId\"],axis=1,inplace=True)"
      ],
      "execution_count": 0,
      "outputs": []
    },
    {
      "cell_type": "code",
      "metadata": {
        "id": "l9c2C0ovp9dX",
        "colab_type": "code",
        "outputId": "0ee7b570-1c6b-45d4-c2a9-2496f3b7dca6",
        "colab": {
          "base_uri": "https://localhost:8080/",
          "height": 33
        }
      },
      "source": [
        "set(df_train[\"Category\"])"
      ],
      "execution_count": 0,
      "outputs": [
        {
          "output_type": "execute_result",
          "data": {
            "text/plain": [
              "{'business', 'entertainment', 'politics', 'sport', 'tech'}"
            ]
          },
          "metadata": {
            "tags": []
          },
          "execution_count": 7
        }
      ]
    },
    {
      "cell_type": "code",
      "metadata": {
        "id": "wSfhERHDqKwN",
        "colab_type": "code",
        "colab": {}
      },
      "source": [
        "df_train[\"labels\"] = df_train[\"Category\"].map({\"business\":0,\"entertainment\":1,\"politics\":2,\"sport\":3,\"tech\":4})"
      ],
      "execution_count": 0,
      "outputs": []
    },
    {
      "cell_type": "code",
      "metadata": {
        "id": "K5c5XGcGux3x",
        "colab_type": "code",
        "colab": {}
      },
      "source": [
        "from sklearn.model_selection import train_test_split\n",
        "\n",
        "X_train, X_val, Y_train, Y_val = train_test_split(df_train[\"Text\"],df_train[\"labels\"],test_size=0.3, random_state=0)"
      ],
      "execution_count": 0,
      "outputs": []
    },
    {
      "cell_type": "code",
      "metadata": {
        "id": "rkOPMPWTSQz3",
        "colab_type": "code",
        "outputId": "c9e0508f-8c6e-4777-af9f-e92ae639479b",
        "colab": {
          "base_uri": "https://localhost:8080/",
          "height": 33
        }
      },
      "source": [
        "X_train.shape, X_val.shape, Y_train.shape, Y_val.shape"
      ],
      "execution_count": 0,
      "outputs": [
        {
          "output_type": "execute_result",
          "data": {
            "text/plain": [
              "((1043,), (447,), (1043,), (447,))"
            ]
          },
          "metadata": {
            "tags": []
          },
          "execution_count": 15
        }
      ]
    },
    {
      "cell_type": "code",
      "metadata": {
        "id": "j5c6gZgRSYLj",
        "colab_type": "code",
        "outputId": "7d54a676-500e-4d9e-ef61-2a85f8915186",
        "colab": {
          "base_uri": "https://localhost:8080/",
          "height": 33
        }
      },
      "source": [
        "set(Y_train)"
      ],
      "execution_count": 0,
      "outputs": [
        {
          "output_type": "execute_result",
          "data": {
            "text/plain": [
              "{0, 1, 2, 3, 4}"
            ]
          },
          "metadata": {
            "tags": []
          },
          "execution_count": 17
        }
      ]
    },
    {
      "cell_type": "code",
      "metadata": {
        "id": "v8sxwZDQttfj",
        "colab_type": "code",
        "colab": {}
      },
      "source": [
        "from tensorflow.keras.preprocessing.text import Tokenizer\n",
        "from tensorflow.keras.preprocessing.sequence import pad_sequences"
      ],
      "execution_count": 0,
      "outputs": []
    },
    {
      "cell_type": "code",
      "metadata": {
        "id": "t7zC87IjuKH6",
        "colab_type": "code",
        "colab": {}
      },
      "source": [
        "MAX_NO_OF_UNIQUE_WORDS = 30000\n",
        "tokenizer = Tokenizer(num_words=MAX_NO_OF_UNIQUE_WORDS)\n",
        "tokenizer.fit_on_texts(X_train)"
      ],
      "execution_count": 0,
      "outputs": []
    },
    {
      "cell_type": "code",
      "metadata": {
        "id": "QCrgQEoUHE2a",
        "colab_type": "code",
        "colab": {}
      },
      "source": [
        "X_train = tokenizer.texts_to_sequences(X_train)\n",
        "X_val = tokenizer.texts_to_sequences(X_val)"
      ],
      "execution_count": 0,
      "outputs": []
    },
    {
      "cell_type": "code",
      "metadata": {
        "id": "GU--1-yWvmbl",
        "colab_type": "code",
        "outputId": "842a6360-d574-4b2c-972b-ce0379e7720f",
        "colab": {
          "base_uri": "https://localhost:8080/",
          "height": 33
        }
      },
      "source": [
        "len_of_seq_train = [ len(s) for s in X_train]\n",
        "max_len_after_pad_train = max(len_of_seq_train)\n",
        "print(max_len_after_pad_train)"
      ],
      "execution_count": 0,
      "outputs": [
        {
          "output_type": "stream",
          "text": [
            "3356\n"
          ],
          "name": "stdout"
        }
      ]
    },
    {
      "cell_type": "code",
      "metadata": {
        "id": "7bhswTUawEB7",
        "colab_type": "code",
        "outputId": "2ab98faa-4970-45fb-fd3a-8c99ba0720a0",
        "colab": {
          "base_uri": "https://localhost:8080/",
          "height": 33
        }
      },
      "source": [
        "len_of_seq_val = [ len(s) for s in X_val ]\n",
        "max_len_after_pad_val = max(len_of_seq_val)\n",
        "print(max_len_after_pad_val)"
      ],
      "execution_count": 0,
      "outputs": [
        {
          "output_type": "stream",
          "text": [
            "1644\n"
          ],
          "name": "stdout"
        }
      ]
    },
    {
      "cell_type": "code",
      "metadata": {
        "id": "MEIvIS6fwRan",
        "colab_type": "code",
        "outputId": "5cafe8a8-7bd3-40a2-ff41-833c94edacb8",
        "colab": {
          "base_uri": "https://localhost:8080/",
          "height": 33
        }
      },
      "source": [
        "MAX_LEN_OF_SEQ = max([max_len_after_pad_train,max_len_after_pad_val])\n",
        "print(MAX_LEN_OF_SEQ)"
      ],
      "execution_count": 0,
      "outputs": [
        {
          "output_type": "stream",
          "text": [
            "3356\n"
          ],
          "name": "stdout"
        }
      ]
    },
    {
      "cell_type": "code",
      "metadata": {
        "id": "Tnv50NvlweBW",
        "colab_type": "code",
        "outputId": "02529fa7-2259-4ef6-ffbe-5df6ebeeb4ae",
        "colab": {
          "base_uri": "https://localhost:8080/",
          "height": 33
        }
      },
      "source": [
        "word2idx = tokenizer.word_index\n",
        "V = len(word2idx)\n",
        "print(\"no of unique words = \",V)"
      ],
      "execution_count": 0,
      "outputs": [
        {
          "output_type": "stream",
          "text": [
            "no of unique words =  21396\n"
          ],
          "name": "stdout"
        }
      ]
    },
    {
      "cell_type": "code",
      "metadata": {
        "id": "vsB_CLwLKH5b",
        "colab_type": "code",
        "outputId": "2226f077-64f1-48f4-bd06-fd88a1da6269",
        "colab": {
          "base_uri": "https://localhost:8080/",
          "height": 33
        }
      },
      "source": [
        "X_train = pad_sequences(X_train)\n",
        "print(\"Paded shape : \",X_train.shape)\n",
        "T = X_train.shape[1]"
      ],
      "execution_count": 0,
      "outputs": [
        {
          "output_type": "stream",
          "text": [
            "Paded shape :  (1043, 3356)\n"
          ],
          "name": "stdout"
        }
      ]
    },
    {
      "cell_type": "code",
      "metadata": {
        "id": "ePU-EOqTKyLY",
        "colab_type": "code",
        "outputId": "4fb78a4d-187e-4a1f-9858-94f74ddb3f22",
        "colab": {
          "base_uri": "https://localhost:8080/",
          "height": 33
        }
      },
      "source": [
        "X_val = pad_sequences(X_val, maxlen=T)\n",
        "print(\"Paded shape : \",X_val.shape)"
      ],
      "execution_count": 0,
      "outputs": [
        {
          "output_type": "stream",
          "text": [
            "Paded shape :  (447, 3356)\n"
          ],
          "name": "stdout"
        }
      ]
    },
    {
      "cell_type": "code",
      "metadata": {
        "id": "97ayVe8rK97W",
        "colab_type": "code",
        "colab": {}
      },
      "source": [
        "from tensorflow.keras.layers import Input, Conv1D, MaxPooling1D, Dense, Embedding, GlobalMaxPooling1D\n",
        "from tensorflow.keras.models import Model"
      ],
      "execution_count": 0,
      "outputs": []
    },
    {
      "cell_type": "code",
      "metadata": {
        "id": "8KNS-z79MlDv",
        "colab_type": "code",
        "colab": {}
      },
      "source": [
        "D = 30\n",
        "\n",
        "i = Input(shape=(T,))\n",
        "x = Embedding(V+1,D)(i)\n",
        "x = Conv1D(32,3)(x)\n",
        "x = MaxPooling1D(3)(x)\n",
        "x = Conv1D(64,3)(x)\n",
        "x = MaxPooling1D(3)(x)\n",
        "x = Conv1D(128,3)(x)\n",
        "x = GlobalMaxPooling1D()(x)\n",
        "x = Dense(5,activation=\"softmax\")(x)\n",
        "\n",
        "model = Model(i,x)"
      ],
      "execution_count": 0,
      "outputs": []
    },
    {
      "cell_type": "code",
      "metadata": {
        "id": "vZggT-9wOJA8",
        "colab_type": "code",
        "outputId": "65af2a27-b734-4355-81a6-eed949ebdb3b",
        "colab": {
          "base_uri": "https://localhost:8080/",
          "height": 450
        }
      },
      "source": [
        "model.summary()"
      ],
      "execution_count": 0,
      "outputs": [
        {
          "output_type": "stream",
          "text": [
            "Model: \"model\"\n",
            "_________________________________________________________________\n",
            "Layer (type)                 Output Shape              Param #   \n",
            "=================================================================\n",
            "input_1 (InputLayer)         [(None, 3356)]            0         \n",
            "_________________________________________________________________\n",
            "embedding (Embedding)        (None, 3356, 30)          641910    \n",
            "_________________________________________________________________\n",
            "conv1d (Conv1D)              (None, 3354, 32)          2912      \n",
            "_________________________________________________________________\n",
            "max_pooling1d (MaxPooling1D) (None, 1118, 32)          0         \n",
            "_________________________________________________________________\n",
            "conv1d_1 (Conv1D)            (None, 1116, 64)          6208      \n",
            "_________________________________________________________________\n",
            "max_pooling1d_1 (MaxPooling1 (None, 372, 64)           0         \n",
            "_________________________________________________________________\n",
            "conv1d_2 (Conv1D)            (None, 370, 128)          24704     \n",
            "_________________________________________________________________\n",
            "global_max_pooling1d (Global (None, 128)               0         \n",
            "_________________________________________________________________\n",
            "dense (Dense)                (None, 5)                 645       \n",
            "=================================================================\n",
            "Total params: 676,379\n",
            "Trainable params: 676,379\n",
            "Non-trainable params: 0\n",
            "_________________________________________________________________\n"
          ],
          "name": "stdout"
        }
      ]
    },
    {
      "cell_type": "code",
      "metadata": {
        "id": "ra0-cw9AOKL5",
        "colab_type": "code",
        "colab": {}
      },
      "source": [
        "model.compile(optimizer='adam', loss=\"sparse_categorical_crossentropy\", metrics=[\"accuracy\"])"
      ],
      "execution_count": 0,
      "outputs": []
    },
    {
      "cell_type": "code",
      "metadata": {
        "id": "J-IdmMfGOnle",
        "colab_type": "code",
        "outputId": "a991d754-68b6-4d8a-cfdc-a0cf195c6bd4",
        "colab": {
          "base_uri": "https://localhost:8080/",
          "height": 350
        }
      },
      "source": [
        "r = model.fit(X_train,Y_train, batch_size=16, epochs=10, validation_data=(X_val,Y_val))"
      ],
      "execution_count": 0,
      "outputs": [
        {
          "output_type": "stream",
          "text": [
            "Epoch 1/10\n",
            "66/66 [==============================] - 2s 29ms/step - loss: 1.6068 - accuracy: 0.2244 - val_loss: 1.5943 - val_accuracy: 0.2170\n",
            "Epoch 2/10\n",
            "66/66 [==============================] - 2s 27ms/step - loss: 1.4265 - accuracy: 0.4535 - val_loss: 1.0301 - val_accuracy: 0.5817\n",
            "Epoch 3/10\n",
            "66/66 [==============================] - 2s 26ms/step - loss: 0.5493 - accuracy: 0.8025 - val_loss: 0.3070 - val_accuracy: 0.9150\n",
            "Epoch 4/10\n",
            "66/66 [==============================] - 2s 26ms/step - loss: 0.0598 - accuracy: 0.9895 - val_loss: 0.2073 - val_accuracy: 0.9284\n",
            "Epoch 5/10\n",
            "66/66 [==============================] - 2s 26ms/step - loss: 0.0060 - accuracy: 1.0000 - val_loss: 0.1985 - val_accuracy: 0.9329\n",
            "Epoch 6/10\n",
            "66/66 [==============================] - 2s 26ms/step - loss: 0.0019 - accuracy: 1.0000 - val_loss: 0.1912 - val_accuracy: 0.9374\n",
            "Epoch 7/10\n",
            "66/66 [==============================] - 2s 25ms/step - loss: 0.0011 - accuracy: 1.0000 - val_loss: 0.1922 - val_accuracy: 0.9374\n",
            "Epoch 8/10\n",
            "66/66 [==============================] - 2s 24ms/step - loss: 7.8380e-04 - accuracy: 1.0000 - val_loss: 0.1929 - val_accuracy: 0.9374\n",
            "Epoch 9/10\n",
            "66/66 [==============================] - 2s 24ms/step - loss: 5.9360e-04 - accuracy: 1.0000 - val_loss: 0.1954 - val_accuracy: 0.9374\n",
            "Epoch 10/10\n",
            "66/66 [==============================] - 2s 24ms/step - loss: 4.6646e-04 - accuracy: 1.0000 - val_loss: 0.1959 - val_accuracy: 0.9374\n"
          ],
          "name": "stdout"
        }
      ]
    },
    {
      "cell_type": "code",
      "metadata": {
        "id": "bd9RFxkfTD5R",
        "colab_type": "code",
        "outputId": "e4a080b8-73e8-41b9-9a86-e16b78fa39ab",
        "colab": {
          "base_uri": "https://localhost:8080/",
          "height": 264
        }
      },
      "source": [
        "import matplotlib.pyplot as plt\n",
        "\n",
        "plt.plot(r.history[\"loss\"],label=\"loss\")\n",
        "plt.plot(r.history[\"val_loss\"],label=\"val_loss\")\n",
        "plt.legend()\n",
        "plt.show()"
      ],
      "execution_count": 0,
      "outputs": [
        {
          "output_type": "display_data",
          "data": {
            "image/png": "[encoded data removed]",
            "text/plain": [
              "<Figure size 432x288 with 1 Axes>"
            ]
          },
          "metadata": {
            "tags": [],
            "needs_background": "light"
          }
        }
      ]
    },
    {
      "cell_type": "code",
      "metadata": {
        "id": "9edxNO8yTgMW",
        "colab_type": "code",
        "outputId": "b9f21a36-f25c-4db6-e837-44b867686456",
        "colab": {
          "base_uri": "https://localhost:8080/",
          "height": 264
        }
      },
      "source": [
        "plt.plot(r.history[\"accuracy\"],label=\"accuracy\")\n",
        "plt.plot(r.history[\"val_accuracy\"],label=\"val_accuracy\")\n",
        "plt.legend()\n",
        "plt.show()"
      ],
      "execution_count": 0,
      "outputs": [
        {
          "output_type": "display_data",
          "data": {
            "image/png": "[encoded data removed]",
            "text/plain": [
              "<Figure size 432x288 with 1 Axes>"
            ]
          },
          "metadata": {
            "tags": [],
            "needs_background": "light"
          }
        }
      ]
    },
    {
      "cell_type": "code",
      "metadata": {
        "id": "YmJv2PeATt66",
        "colab_type": "code",
        "colab": {}
      },
      "source": [
        "df_test = pd.read_csv(\"/content/drive/My Drive/Colab Notebooks/NLP mini project/BBC News Test.csv\")\n",
        "X_test = tokenizer.texts_to_sequences(df_test[\"Text\"])\n",
        "X_test = pad_sequences(X_test, maxlen=T)"
      ],
      "execution_count": 0,
      "outputs": []
    },
    {
      "cell_type": "code",
      "metadata": {
        "id": "_gCTlqvqUTY2",
        "colab_type": "code",
        "outputId": "108d91e0-2561-40b1-eed4-32ed88b0f7a7",
        "colab": {
          "base_uri": "https://localhost:8080/",
          "height": 33
        }
      },
      "source": [
        "X_test.shape"
      ],
      "execution_count": 0,
      "outputs": [
        {
          "output_type": "execute_result",
          "data": {
            "text/plain": [
              "(735, 3356)"
            ]
          },
          "metadata": {
            "tags": []
          },
          "execution_count": 37
        }
      ]
    },
    {
      "cell_type": "code",
      "metadata": {
        "id": "mst2bLLQUU-q",
        "colab_type": "code",
        "colab": {}
      },
      "source": [
        "res = model.predict(X_test)"
      ],
      "execution_count": 0,
      "outputs": []
    },
    {
      "cell_type": "code",
      "metadata": {
        "id": "YdlNoDzPVBYd",
        "colab_type": "code",
        "outputId": "4560ca61-dd81-48bf-84b0-03ac31639d07",
        "colab": {
          "base_uri": "https://localhost:8080/",
          "height": 33
        }
      },
      "source": [
        "res.shape"
      ],
      "execution_count": 0,
      "outputs": [
        {
          "output_type": "execute_result",
          "data": {
            "text/plain": [
              "(735, 5)"
            ]
          },
          "metadata": {
            "tags": []
          },
          "execution_count": 39
        }
      ]
    },
    {
      "cell_type": "code",
      "metadata": {
        "id": "5rBuYoX4VHYw",
        "colab_type": "code",
        "outputId": "c422a3c3-7fee-4af2-c84a-62ca2f6d7d1b",
        "colab": {
          "base_uri": "https://localhost:8080/",
          "height": 50
        }
      },
      "source": [
        "res[0]"
      ],
      "execution_count": 0,
      "outputs": [
        {
          "output_type": "execute_result",
          "data": {
            "text/plain": [
              "array([7.2040436e-08, 5.2759396e-03, 3.5199992e-06, 9.9472010e-01,\n",
              "       3.7521315e-07], dtype=float32)"
            ]
          },
          "metadata": {
            "tags": []
          },
          "execution_count": 40
        }
      ]
    },
    {
      "cell_type": "code",
      "metadata": {
        "id": "CoqZXnDFWqAb",
        "colab_type": "code",
        "colab": {}
      },
      "source": [
        "labels = [\"business\",\"entertainment\",\"politics\",\"sport\",\"tech\"]\n",
        "preds = []\n",
        "for c in res:\n",
        "  idx = np.argmax(c)\n",
        "  preds.append(labels[idx])"
      ],
      "execution_count": 0,
      "outputs": []
    },
    {
      "cell_type": "code",
      "metadata": {
        "id": "LLPnaRRKW5vO",
        "colab_type": "code",
        "outputId": "74cd65ad-beeb-4555-ec40-45a60ea865fe",
        "colab": {
          "base_uri": "https://localhost:8080/",
          "height": 33
        }
      },
      "source": [
        "len(preds)"
      ],
      "execution_count": 0,
      "outputs": [
        {
          "output_type": "execute_result",
          "data": {
            "text/plain": [
              "735"
            ]
          },
          "metadata": {
            "tags": []
          },
          "execution_count": 45
        }
      ]
    },
    {
      "cell_type": "code",
      "metadata": {
        "id": "Fq3K1h51X_dL",
        "colab_type": "code",
        "colab": {}
      },
      "source": [
        "sample_sub = pd.read_csv(\"/content/drive/My Drive/Colab Notebooks/NLP mini project/BBC News Sample Solution.csv\")"
      ],
      "execution_count": 0,
      "outputs": []
    },
    {
      "cell_type": "code",
      "metadata": {
        "id": "lf0kP2r6YKUt",
        "colab_type": "code",
        "colab": {}
      },
      "source": [
        "df_test[\"Category\"] = preds"
      ],
      "execution_count": 0,
      "outputs": []
    },
    {
      "cell_type": "code",
      "metadata": {
        "id": "NaTYVPacYrOO",
        "colab_type": "code",
        "colab": {}
      },
      "source": [
        "df_new = df_test.drop([\"Text\"],axis=1)"
      ],
      "execution_count": 0,
      "outputs": []
    },
    {
      "cell_type": "code",
      "metadata": {
        "id": "G9nHnc4qYoVU",
        "colab_type": "code",
        "outputId": "a2491942-078c-4bb5-a62e-fb1c3a8d3a73",
        "colab": {
          "base_uri": "https://localhost:8080/",
          "height": 183
        }
      },
      "source": [
        "df_test.info()"
      ],
      "execution_count": 0,
      "outputs": [
        {
          "output_type": "stream",
          "text": [
            "<class 'pandas.core.frame.DataFrame'>\n",
            "RangeIndex: 735 entries, 0 to 734\n",
            "Data columns (total 3 columns):\n",
            " #   Column     Non-Null Count  Dtype \n",
            "---  ------     --------------  ----- \n",
            " 0   ArticleId  735 non-null    int64 \n",
            " 1   Text       735 non-null    object\n",
            " 2   Category   735 non-null    object\n",
            "dtypes: int64(1), object(2)\n",
            "memory usage: 17.4+ KB\n"
          ],
          "name": "stdout"
        }
      ]
    },
    {
      "cell_type": "code",
      "metadata": {
        "id": "eDfjroG0Yy81",
        "colab_type": "code",
        "outputId": "8befaf31-11de-4f48-800b-f53e554cf73c",
        "colab": {
          "base_uri": "https://localhost:8080/",
          "height": 166
        }
      },
      "source": [
        "df_new.info()"
      ],
      "execution_count": 0,
      "outputs": [
        {
          "output_type": "stream",
          "text": [
            "<class 'pandas.core.frame.DataFrame'>\n",
            "RangeIndex: 735 entries, 0 to 734\n",
            "Data columns (total 2 columns):\n",
            " #   Column     Non-Null Count  Dtype \n",
            "---  ------     --------------  ----- \n",
            " 0   ArticleId  735 non-null    int64 \n",
            " 1   Category   735 non-null    object\n",
            "dtypes: int64(1), object(1)\n",
            "memory usage: 11.6+ KB\n"
          ],
          "name": "stdout"
        }
      ]
    },
    {
      "cell_type": "code",
      "metadata": {
        "id": "TrZ9X22YY2R3",
        "colab_type": "code",
        "colab": {}
      },
      "source": [
        "df_new.to_csv(\"/content/drive/My Drive/Colab Notebooks/NLP mini project/sub_1.csv\",index=False)"
      ],
      "execution_count": 0,
      "outputs": []
    }
  ]
}